{
 "cells": [
  {
   "cell_type": "code",
   "execution_count": 3,
   "metadata": {},
   "outputs": [
    {
     "name": "stderr",
     "output_type": "stream",
     "text": [
      "[2017-05-21 21:43:13,954] Making new env: Humanoid-v1\n"
     ]
    },
    {
     "name": "stdout",
     "output_type": "stream",
     "text": [
      "100881\n",
      "122.591174963\n",
      "117.671090207\n",
      "114.014837953\n",
      "120.781004282\n"
     ]
    },
    {
     "ename": "KeyboardInterrupt",
     "evalue": "",
     "output_type": "error",
     "traceback": [
      "\u001b[0;31m---------------------------------------------------------------------------\u001b[0m",
      "\u001b[0;31mKeyboardInterrupt\u001b[0m                         Traceback (most recent call last)",
      "\u001b[0;32m<ipython-input-3-dafecbe23988>\u001b[0m in \u001b[0;36m<module>\u001b[0;34m()\u001b[0m\n\u001b[1;32m     57\u001b[0m \u001b[0;34m\u001b[0m\u001b[0m\n\u001b[1;32m     58\u001b[0m         \u001b[0mit\u001b[0m \u001b[0;34m=\u001b[0m \u001b[0mj\u001b[0m\u001b[0;34m\u001b[0m\u001b[0m\n\u001b[0;32m---> 59\u001b[0;31m         \u001b[0msc\u001b[0m\u001b[0;34m,\u001b[0m \u001b[0mr\u001b[0m \u001b[0;34m=\u001b[0m \u001b[0mplay\u001b[0m\u001b[0;34m(\u001b[0m\u001b[0;36m1\u001b[0m\u001b[0;34m,\u001b[0m \u001b[0;36m1000000\u001b[0m\u001b[0;34m,\u001b[0m \u001b[0mpolicy_cem\u001b[0m\u001b[0;34m)\u001b[0m\u001b[0;34m\u001b[0m\u001b[0m\n\u001b[0m\u001b[1;32m     60\u001b[0m         \u001b[0mb\u001b[0m\u001b[0;34m[\u001b[0m\u001b[0mj\u001b[0m\u001b[0;34m]\u001b[0m \u001b[0;34m=\u001b[0m \u001b[0;34m-\u001b[0m\u001b[0mr\u001b[0m\u001b[0;34m\u001b[0m\u001b[0m\n\u001b[1;32m     61\u001b[0m \u001b[0;34m\u001b[0m\u001b[0m\n",
      "\u001b[0;32m<ipython-input-2-b9d1c605695f>\u001b[0m in \u001b[0;36mplay\u001b[0;34m(num_episodes, num_steps, policy, update)\u001b[0m\n\u001b[1;32m     14\u001b[0m             \u001b[0maction\u001b[0m \u001b[0;34m=\u001b[0m \u001b[0mpolicy\u001b[0m\u001b[0;34m(\u001b[0m\u001b[0mobservation\u001b[0m\u001b[0;34m)\u001b[0m\u001b[0;34m\u001b[0m\u001b[0m\n\u001b[1;32m     15\u001b[0m \u001b[0;34m\u001b[0m\u001b[0m\n\u001b[0;32m---> 16\u001b[0;31m             \u001b[0mobservation\u001b[0m\u001b[0;34m,\u001b[0m \u001b[0mreward\u001b[0m\u001b[0;34m,\u001b[0m \u001b[0mdone\u001b[0m\u001b[0;34m,\u001b[0m \u001b[0minfo\u001b[0m \u001b[0;34m=\u001b[0m \u001b[0menv\u001b[0m\u001b[0;34m.\u001b[0m\u001b[0mstep\u001b[0m\u001b[0;34m(\u001b[0m\u001b[0maction\u001b[0m\u001b[0;34m)\u001b[0m\u001b[0;34m\u001b[0m\u001b[0m\n\u001b[0m\u001b[1;32m     17\u001b[0m             \u001b[0mr\u001b[0m \u001b[0;34m+=\u001b[0m \u001b[0mreward\u001b[0m\u001b[0;34m\u001b[0m\u001b[0m\n\u001b[1;32m     18\u001b[0m \u001b[0;34m\u001b[0m\u001b[0m\n",
      "\u001b[0;32m/Users/Jarvis/Desktop/Development/ml/experiments/gym/gym/core.py\u001b[0m in \u001b[0;36mstep\u001b[0;34m(self, action)\u001b[0m\n\u001b[1;32m    108\u001b[0m             \u001b[0minfo\u001b[0m \u001b[0;34m(\u001b[0m\u001b[0mdict\u001b[0m\u001b[0;34m)\u001b[0m\u001b[0;34m:\u001b[0m \u001b[0mcontains\u001b[0m \u001b[0mauxiliary\u001b[0m \u001b[0mdiagnostic\u001b[0m \u001b[0minformation\u001b[0m \u001b[0;34m(\u001b[0m\u001b[0mhelpful\u001b[0m \u001b[0;32mfor\u001b[0m \u001b[0mdebugging\u001b[0m\u001b[0;34m,\u001b[0m \u001b[0;32mand\u001b[0m \u001b[0msometimes\u001b[0m \u001b[0mlearning\u001b[0m\u001b[0;34m)\u001b[0m\u001b[0;34m\u001b[0m\u001b[0m\n\u001b[1;32m    109\u001b[0m         \"\"\"\n\u001b[0;32m--> 110\u001b[0;31m         \u001b[0mobservation\u001b[0m\u001b[0;34m,\u001b[0m \u001b[0mreward\u001b[0m\u001b[0;34m,\u001b[0m \u001b[0mdone\u001b[0m\u001b[0;34m,\u001b[0m \u001b[0minfo\u001b[0m \u001b[0;34m=\u001b[0m \u001b[0mself\u001b[0m\u001b[0;34m.\u001b[0m\u001b[0m_step\u001b[0m\u001b[0;34m(\u001b[0m\u001b[0maction\u001b[0m\u001b[0;34m)\u001b[0m\u001b[0;34m\u001b[0m\u001b[0m\n\u001b[0m\u001b[1;32m    111\u001b[0m         \u001b[0;32mreturn\u001b[0m \u001b[0mobservation\u001b[0m\u001b[0;34m,\u001b[0m \u001b[0mreward\u001b[0m\u001b[0;34m,\u001b[0m \u001b[0mdone\u001b[0m\u001b[0;34m,\u001b[0m \u001b[0minfo\u001b[0m\u001b[0;34m\u001b[0m\u001b[0m\n\u001b[1;32m    112\u001b[0m \u001b[0;34m\u001b[0m\u001b[0m\n",
      "\u001b[0;32m/Users/Jarvis/Desktop/Development/ml/experiments/gym/gym/envs/mujoco/humanoid.py\u001b[0m in \u001b[0;36m_step\u001b[0;34m(self, a)\u001b[0m\n\u001b[1;32m     24\u001b[0m     \u001b[0;32mdef\u001b[0m \u001b[0m_step\u001b[0m\u001b[0;34m(\u001b[0m\u001b[0mself\u001b[0m\u001b[0;34m,\u001b[0m \u001b[0ma\u001b[0m\u001b[0;34m)\u001b[0m\u001b[0;34m:\u001b[0m\u001b[0;34m\u001b[0m\u001b[0m\n\u001b[1;32m     25\u001b[0m         \u001b[0mpos_before\u001b[0m \u001b[0;34m=\u001b[0m \u001b[0mmass_center\u001b[0m\u001b[0;34m(\u001b[0m\u001b[0mself\u001b[0m\u001b[0;34m.\u001b[0m\u001b[0mmodel\u001b[0m\u001b[0;34m)\u001b[0m\u001b[0;34m\u001b[0m\u001b[0m\n\u001b[0;32m---> 26\u001b[0;31m         \u001b[0mself\u001b[0m\u001b[0;34m.\u001b[0m\u001b[0mdo_simulation\u001b[0m\u001b[0;34m(\u001b[0m\u001b[0ma\u001b[0m\u001b[0;34m,\u001b[0m \u001b[0mself\u001b[0m\u001b[0;34m.\u001b[0m\u001b[0mframe_skip\u001b[0m\u001b[0;34m)\u001b[0m\u001b[0;34m\u001b[0m\u001b[0m\n\u001b[0m\u001b[1;32m     27\u001b[0m         \u001b[0mpos_after\u001b[0m \u001b[0;34m=\u001b[0m \u001b[0mmass_center\u001b[0m\u001b[0;34m(\u001b[0m\u001b[0mself\u001b[0m\u001b[0;34m.\u001b[0m\u001b[0mmodel\u001b[0m\u001b[0;34m)\u001b[0m\u001b[0;34m\u001b[0m\u001b[0m\n\u001b[1;32m     28\u001b[0m         \u001b[0malive_bonus\u001b[0m \u001b[0;34m=\u001b[0m \u001b[0;36m5.0\u001b[0m\u001b[0;34m\u001b[0m\u001b[0m\n",
      "\u001b[0;32m/Users/Jarvis/Desktop/Development/ml/experiments/gym/gym/envs/mujoco/mujoco_env.py\u001b[0m in \u001b[0;36mdo_simulation\u001b[0;34m(self, ctrl, n_frames)\u001b[0m\n\u001b[1;32m     99\u001b[0m         \u001b[0mself\u001b[0m\u001b[0;34m.\u001b[0m\u001b[0mmodel\u001b[0m\u001b[0;34m.\u001b[0m\u001b[0mdata\u001b[0m\u001b[0;34m.\u001b[0m\u001b[0mctrl\u001b[0m \u001b[0;34m=\u001b[0m \u001b[0mctrl\u001b[0m\u001b[0;34m\u001b[0m\u001b[0m\n\u001b[1;32m    100\u001b[0m         \u001b[0;32mfor\u001b[0m \u001b[0m_\u001b[0m \u001b[0;32min\u001b[0m \u001b[0mrange\u001b[0m\u001b[0;34m(\u001b[0m\u001b[0mn_frames\u001b[0m\u001b[0;34m)\u001b[0m\u001b[0;34m:\u001b[0m\u001b[0;34m\u001b[0m\u001b[0m\n\u001b[0;32m--> 101\u001b[0;31m             \u001b[0mself\u001b[0m\u001b[0;34m.\u001b[0m\u001b[0mmodel\u001b[0m\u001b[0;34m.\u001b[0m\u001b[0mstep\u001b[0m\u001b[0;34m(\u001b[0m\u001b[0;34m)\u001b[0m\u001b[0;34m\u001b[0m\u001b[0m\n\u001b[0m\u001b[1;32m    102\u001b[0m \u001b[0;34m\u001b[0m\u001b[0m\n\u001b[1;32m    103\u001b[0m     \u001b[0;32mdef\u001b[0m \u001b[0m_render\u001b[0m\u001b[0;34m(\u001b[0m\u001b[0mself\u001b[0m\u001b[0;34m,\u001b[0m \u001b[0mmode\u001b[0m\u001b[0;34m=\u001b[0m\u001b[0;34m'human'\u001b[0m\u001b[0;34m,\u001b[0m \u001b[0mclose\u001b[0m\u001b[0;34m=\u001b[0m\u001b[0;32mFalse\u001b[0m\u001b[0;34m)\u001b[0m\u001b[0;34m:\u001b[0m\u001b[0;34m\u001b[0m\u001b[0m\n",
      "\u001b[0;32m/Users/Jarvis/miniconda3/envs/carnd-term1/lib/python3.5/site-packages/mujoco_py/mjcore.py\u001b[0m in \u001b[0;36mstep\u001b[0;34m(self)\u001b[0m\n\u001b[1;32m     78\u001b[0m \u001b[0;34m\u001b[0m\u001b[0m\n\u001b[1;32m     79\u001b[0m     \u001b[0;32mdef\u001b[0m \u001b[0mstep\u001b[0m\u001b[0;34m(\u001b[0m\u001b[0mself\u001b[0m\u001b[0;34m)\u001b[0m\u001b[0;34m:\u001b[0m\u001b[0;34m\u001b[0m\u001b[0m\n\u001b[0;32m---> 80\u001b[0;31m         \u001b[0mmjlib\u001b[0m\u001b[0;34m.\u001b[0m\u001b[0mmj_step\u001b[0m\u001b[0;34m(\u001b[0m\u001b[0mself\u001b[0m\u001b[0;34m.\u001b[0m\u001b[0mptr\u001b[0m\u001b[0;34m,\u001b[0m \u001b[0mself\u001b[0m\u001b[0;34m.\u001b[0m\u001b[0mdata\u001b[0m\u001b[0;34m.\u001b[0m\u001b[0mptr\u001b[0m\u001b[0;34m)\u001b[0m\u001b[0;34m\u001b[0m\u001b[0m\n\u001b[0m\u001b[1;32m     81\u001b[0m \u001b[0;34m\u001b[0m\u001b[0m\n\u001b[1;32m     82\u001b[0m     \u001b[0;32mdef\u001b[0m \u001b[0m__del__\u001b[0m\u001b[0;34m(\u001b[0m\u001b[0mself\u001b[0m\u001b[0;34m)\u001b[0m\u001b[0;34m:\u001b[0m\u001b[0;34m\u001b[0m\u001b[0m\n",
      "\u001b[0;31mKeyboardInterrupt\u001b[0m: "
     ]
    }
   ],
   "source": [
    "import operator\n",
    "import matplotlib.pyplot as plt\n",
    "import numpy as np\n",
    "import gym\n",
    "from gym import wrappers\n",
    "\n",
    "#Cross-Entropy\n",
    "np.random.seed(0)\n",
    "d = 376\n",
    "bins = 17\n",
    "\n",
    "ds = [d, 256, bins]\n",
    "dim = 0\n",
    "for i in range(len(ds)-1):\n",
    "    dim += (ds[i]+1)*(ds[i+1])\n",
    "\n",
    "print(dim)\n",
    "\n",
    "curr_mean = 0\n",
    "curr_std = 0.1\n",
    "it = 0\n",
    "        \n",
    "def policy_cem(obs):\n",
    "    out = obs.reshape(1, d)\n",
    "    W = Ws[it]\n",
    "    \n",
    "    ind = 0\n",
    "    for i in range(len(ds)-1):\n",
    "        out = out.reshape(1, -1)\n",
    "        \n",
    "        d1 = ds[i]\n",
    "        d2 = ds[i+1]\n",
    "        w = W[ind:ind+d1*d2].reshape(d1, d2)\n",
    "        ind = ind+d1*d2\n",
    "        b = W[ind:ind+d2]\n",
    "        ind = ind + d2\n",
    "        out = out.dot(w) + b\n",
    "        if ind != len(W):\n",
    "            out = np.tanh(out)\n",
    "    \n",
    "    return np.tanh(out)*0.4\n",
    "    \n",
    "env = gym.make('Humanoid-v1')\n",
    "#env = wrappers.Monitor(env, '/tmp/mountaincar-experiment-1',force=True)\n",
    "scores = []\n",
    "std = []\n",
    "mean = []\n",
    "alpha = 1\n",
    "N = 100\n",
    "P = int(N/5)\n",
    "\n",
    "for i in range(100):\n",
    "    \n",
    "    Ws = (np.random.randn(N, dim))*curr_std + curr_mean\n",
    "    b = {}\n",
    "    for j in range(N):\n",
    "        \n",
    "        it = j\n",
    "        sc, r = play(1, 1000000, policy_cem)\n",
    "        b[j] = -r\n",
    "    \n",
    "    scores.append(np.mean([-v for i, v in b.items()]))\n",
    "    sorted_b = sorted(b.items(), key=operator.itemgetter(1))\n",
    "    \n",
    "    print(scores[-1])\n",
    "    \n",
    "    idx = [k for k, v in sorted_b[:P]]\n",
    "    v = np.array([v for k, v in sorted_b[:P]]).reshape(-1, 1)\n",
    "    \n",
    "    curr_mean = curr_mean*(1-alpha) + alpha*np.sum(Ws[idx]*v, axis=0)/np.sum(v)\n",
    "    curr_std = curr_std*(1-alpha) + alpha*np.sqrt(np.sum(v*(Ws[idx]-curr_mean)**2, axis=0)/np.sum(v)) #+ np.max(10-i/100, 0)\n",
    "    \n",
    "    if np.sqrt(np.sum(curr_std**2)) < 1e-3:\n",
    "        break\n",
    "    \n",
    "    std.append(curr_std[0])\n",
    "    mean.append(curr_mean[0])\n",
    "\n",
    "env.close()\n",
    "\n",
    "#plt.plot(std)\n",
    "#plt.plot(mean)\n",
    "plt.plot(scores)\n",
    "plt.show()\n"
   ]
  },
  {
   "cell_type": "code",
   "execution_count": 4,
   "metadata": {},
   "outputs": [
    {
     "data": {
      "image/png": "[encoded data removed]",
      "text/plain": [
       "<matplotlib.figure.Figure at 0x1102b90b8>"
      ]
     },
     "metadata": {},
     "output_type": "display_data"
    }
   ],
   "source": [
    "plt.plot(std)\n",
    "plt.show()\n",
    "env.close()"
   ]
  },
  {
   "cell_type": "code",
   "execution_count": 370,
   "metadata": {
    "scrolled": false
   },
   "outputs": [
    {
     "name": "stderr",
     "output_type": "stream",
     "text": [
      "[2017-05-06 12:22:59,498] Making new env: Pendulum-v0\n"
     ]
    },
    {
     "name": "stdout",
     "output_type": "stream",
     "text": [
      "[-2.86649597]\n"
     ]
    },
    {
     "data": {
      "image/png": "[encoded data removed]",
      "text/plain": [
       "<matplotlib.figure.Figure at 0x113c4cd30>"
      ]
     },
     "metadata": {},
     "output_type": "display_data"
    }
   ],
   "source": [
    "import operator\n",
    "import matplotlib.pyplot as plt\n",
    "import numpy as np\n",
    "import gym\n",
    "from gym import wrappers\n",
    "from scipy import stats\n",
    "from scipy.stats import truncnorm\n",
    "from scipy.special import expit\n",
    "\n",
    "#policy gradient\n",
    "\n",
    "ds = [3, 50, 10, 2]\n",
    "dim = 0\n",
    "for i in range(len(ds)-1):\n",
    "    dim += (ds[i]+1)*(ds[i+1])\n",
    "\n",
    "discount = 0.99\n",
    "lr = 1e-3\n",
    "W = np.random.randn(1, dim)[0]*0.1\n",
    "x1 = -2\n",
    "x2 = +2\n",
    "cache = []\n",
    "\n",
    "def compute_normals(obs):\n",
    "    out = obs.reshape(1, 3)\n",
    "    global cache\n",
    "    cache = []\n",
    "    cache.append(out)\n",
    "    ind = 0\n",
    "    for i in range(len(ds)-1):\n",
    "        out = out.reshape(1, -1)\n",
    "        \n",
    "        d1 = ds[i]\n",
    "        d2 = ds[i+1]\n",
    "        w = W[ind:ind+d1*d2].reshape(d1, d2)\n",
    "        ind = ind+d1*d2\n",
    "        b = W[ind:ind+d2]\n",
    "        ind = ind + d2\n",
    "        out = out.dot(w) + b\n",
    "        \n",
    "        cache.append(out)\n",
    "        \n",
    "        if ind != len(W):\n",
    "            out = expit(out)\n",
    "    \n",
    "    out = out[0]\n",
    "    mean, variance = 2*np.tanh(out[0]), 2*expit(out[1])\n",
    "    return mean, variance\n",
    "\n",
    "def policy(obs):\n",
    "    mean, variance = compute_normals(obs)\n",
    "    \n",
    "    if variance < 1e-20:\n",
    "        #if np.random.rand() < 0.001:\n",
    "        #    print(mean, variance)\n",
    "        \n",
    "        a = mean\n",
    "    else:\n",
    "        #if np.random.rand() < 0.001:\n",
    "        #    print(variance, mean)\n",
    "        \n",
    "        a = truncnorm.rvs((x1-mean)/np.abs(variance), (x2-mean)/np.abs(variance), loc=mean, scale=np.abs(variance))\n",
    "    #a = np.random.randn()*np.abs(variance) + mean\n",
    "    #print(a)\n",
    "    return [a]\n",
    "    \n",
    "def truncnorm_dx(a, m, v):\n",
    "    \n",
    "    if v < 1e-20:\n",
    "        dm, dv = 0, 0\n",
    "    else:\n",
    "        eps = min(1e-5, np.abs(m)*1e-4)\n",
    "\n",
    "        p1 = truncnorm.pdf(a, (x1-(m-eps))/np.abs(v), (x2-(m-eps))/np.abs(v), loc=m-eps, scale=np.abs(v))\n",
    "        p2 = truncnorm.pdf(a, (x1-(m+eps))/np.abs(v), (x2-(m+eps))/np.abs(v), loc=m+eps, scale=np.abs(v))\n",
    "\n",
    "        dm = (np.log(p2)-np.log(p1))/(2*eps)\n",
    "\n",
    "        eps = min(1e-5, np.abs(v)*1e-4)\n",
    "\n",
    "        p1 = truncnorm.pdf(a, (x1-m)/(np.abs(v)-eps), (x2-m)/(np.abs(v)-eps), loc=m, scale=np.abs(v)-eps)\n",
    "        p2 = truncnorm.pdf(a, (x1-m)/(np.abs(v)+eps), (x2-m)/(np.abs(v)+eps), loc=m, scale=np.abs(v)+eps)\n",
    "        dv = (np.log(p2)-np.log(p1))/(2*eps)\n",
    "        dv *= np.abs(v)/v\n",
    "    \n",
    "    return dm, dv\n",
    "    \n",
    "def compute_gradients(actions, net, states):\n",
    "    grads = np.zeros(*W.shape)\n",
    "    for a, r, s in zip(actions, net, states[:-1]):\n",
    "        mean, variance = compute_normals(s)\n",
    "        #dm, dv = (a-mean)/(variance**2), (((a-mean)**2)*variance**-3 - variance**-1)*np.abs(variance)/variance\n",
    "        \n",
    "        dm, dv = truncnorm_dx(a, mean, variance)\n",
    "        \n",
    "        #tan, sigmoid grad\n",
    "        t1 = cache[-1][0][0]\n",
    "        t2 = cache[-1][0][1]\n",
    "        \n",
    "        dm *= 2*4*expit(2*t1)*(1-expit(2*t1))\n",
    "        dv *= 2*expit(t2)*(1-expit(t2))\n",
    "        \n",
    "        dx = np.array([dm, dv])\n",
    "        \n",
    "        ind = 0\n",
    "        for i in range(len(ds), 1, -1):\n",
    "            \n",
    "            d1 = ds[i-2]\n",
    "            d2 = ds[i-1]\n",
    "            \n",
    "            dx = dx.reshape(d2, 1)\n",
    "            \n",
    "            xn = cache[i-2]\n",
    "                        \n",
    "            if i > 2:\n",
    "                x = expit(xn)\n",
    "            else:\n",
    "                x = xn\n",
    "            \n",
    "            if ind == 0:\n",
    "                i1 = ind-d2\n",
    "                i2 = 0\n",
    "                b = W[ind-d2:]\n",
    "            else:\n",
    "                i1 = ind-d2\n",
    "                i2 = ind\n",
    "                b = W[ind-d2:ind]\n",
    "            \n",
    "            ind = ind-d2\n",
    "            \n",
    "            i3 = ind-d1*d2\n",
    "            i4 = ind\n",
    "            w = W[i3:i4].reshape(d1, d2)\n",
    "            \n",
    "            ind = i3\n",
    "            \n",
    "            #print(i, x.shape, w.shape, b.shape, dx.shape, d1, d2, r)\n",
    "            \n",
    "            grads[i3:i4] += ((x.reshape(d1, 1)).dot(dx.T)*r).reshape(grads[i3:i4].shape)\n",
    "            dxn = w.dot(dx)\n",
    "            \n",
    "            if i2 != 0:\n",
    "                grads[i1:i2] += dx.reshape(grads[i1:i2].shape)*r\n",
    "            else:\n",
    "                grads[i1:] += dx.reshape(grads[i1:].shape)*r\n",
    "            \n",
    "            dx = dxn\n",
    "            dx = dx*(x.T*(1-x.T))\n",
    "            \n",
    "    return grads\n",
    "\n",
    "def numeric_gradient(actions, net, states):\n",
    "    grads = np.zeros(*W.shape)\n",
    "    eps = 1e-5\n",
    "    \n",
    "    for a, r, s in zip(actions, net, states[:-1]):\n",
    "        for idx in range(len(W)):\n",
    "            W[idx] = W[idx] - eps\n",
    "            mean, variance = compute_normals(s)\n",
    "            p1 = truncnorm.pdf(a, (x1-mean)/np.abs(variance), (x2-mean)/np.abs(variance), loc=mean, scale=np.abs(variance))\n",
    "            \n",
    "            W[idx] = W[idx] + 2*eps\n",
    "            mean, variance = compute_normals(s)\n",
    "            p2 = truncnorm.pdf(a, (x1-mean)/np.abs(variance), (x2-mean)/np.abs(variance), loc=mean, scale=np.abs(variance))\n",
    "            \n",
    "            W[idx] -= eps\n",
    "            grads[idx] += r*(np.log(p2)-np.log(p1))/(2*eps)\n",
    "            \n",
    "    return grads\n",
    "\n",
    "def update(actions, states, rewards):\n",
    "    \n",
    "    for i in range(len(rewards), 0, -1):\n",
    "        if i == len(rewards):\n",
    "            net = [rewards[-1]]\n",
    "        else:\n",
    "            net = [rewards[i-1] + discount*net[-1]] + net\n",
    "    \n",
    "    grads1 = compute_gradients(actions, net, states)\n",
    "    #grads2 = numeric_gradient(actions, net, states)\n",
    "    \n",
    "    #print(grads1)\n",
    "    #print(grads2)\n",
    "    #print(\"grad\", np.sqrt(np.sum((grads1-grads2)**2)))\n",
    "    \n",
    "    global W, lr\n",
    "    \n",
    "    W += lr*grads1\n",
    "\n",
    "env = gym.make(\"Pendulum-v0\")\n",
    "\n",
    "T = 1\n",
    "rewards = []\n",
    "lr = 1e-2\n",
    "discount = 0.99\n",
    "for i in range(T):\n",
    "    _, r = play(1, 1, policy, update)\n",
    "    \n",
    "    rewards.append(r)\n",
    "    \n",
    "    if i %10 == 0:\n",
    "        print(r)\n",
    "\n",
    "env.close()\n",
    "\n",
    "plt.plot(rewards)\n",
    "plt.show()\n"
   ]
  },
  {
   "cell_type": "code",
   "execution_count": 3,
   "metadata": {
    "collapsed": true
   },
   "outputs": [],
   "source": [
    "\n",
    "def downsample(image):\n",
    "    # Take only alternate pixels - basically halves the resolution of the image (which is fine for us)\n",
    "    return image[::2, ::2, :]\n",
    "\n",
    "def remove_color(image):\n",
    "    \"\"\"Convert all color (RGB is the third dimension in the image)\"\"\"\n",
    "    return image[:, :, 0]\n",
    "\n",
    "def remove_background(image):\n",
    "    image[image == 144] = 0\n",
    "    image[image == 109] = 0\n",
    "    return image\n",
    "\n",
    "def preprocess_observations(input_observation):\n",
    "    \"\"\" convert the 210x160x3 uint8 frame into a 6400 float vector \"\"\"\n",
    "    processed_observation = input_observation[35:195] # crop\n",
    "    processed_observation = downsample(processed_observation)\n",
    "    processed_observation = remove_color(processed_observation)\n",
    "    processed_observation = remove_background(processed_observation)\n",
    "    processed_observation[processed_observation != 0] = 1 # everything else (paddles, ball) just set to 1\n",
    "    \n",
    "    return processed_observation.reshape(80, 80, 1)\n",
    "\n",
    "def generate_observation(observation1, observation2, observation3, observation4):\n",
    "    return np.dstack((observation1, observation2, observation3, observation4))\n"
   ]
  },
  {
   "cell_type": "code",
   "execution_count": 13,
   "metadata": {
    "scrolled": true
   },
   "outputs": [
    {
     "name": "stderr",
     "output_type": "stream",
     "text": [
      "[2017-06-02 21:44:42,148] Making new env: Swimmer-v1\n"
     ]
    },
    {
     "name": "stdout",
     "output_type": "stream",
     "text": [
      "Initializing Weights...\n",
      "Weights Initialized\n",
      "\n",
      "Episode finished -3.56822961646 17.7664765912 -28.5695732393 34.5023773987\n",
      "Episode finished 28.0094520046 10.0616363735 -3.28727683876 39.5242434488\n",
      "Episode finished 27.7408179908 14.0020473349 -25.3864557597 39.2842754707\n",
      "Episode finished 27.5272893128 14.49414016 -19.8399841661 40.4056518931\n",
      "Episode finished 28.450622904 13.552685065 -21.7517540496 40.7830463614\n",
      "Episode finished 28.8616673692 13.7621094685 -24.0969935973 41.0972931627\n",
      "Episode finished 30.2426441876 10.5730417428 1.43546277001 40.6887431923\n",
      "Episode finished 27.823175129 13.3510259889 -20.0342892057 43.0274876555\n",
      "Episode finished 23.8392456348 16.1555468833 -21.2785474694 42.3485461333\n",
      "Episode finished 26.0666874318 14.7209997372 -16.35434779 42.0281302158\n"
     ]
    },
    {
     "ename": "KeyboardInterrupt",
     "evalue": "",
     "output_type": "error",
     "traceback": [
      "\u001b[0;31m---------------------------------------------------------------------------\u001b[0m",
      "\u001b[0;31mKeyboardInterrupt\u001b[0m                         Traceback (most recent call last)",
      "\u001b[0;32m<ipython-input-13-87aa78870163>\u001b[0m in \u001b[0;36m<module>\u001b[0;34m()\u001b[0m\n\u001b[1;32m     85\u001b[0m \u001b[0;34m\u001b[0m\u001b[0m\n\u001b[1;32m     86\u001b[0m         \u001b[0;32mfor\u001b[0m \u001b[0mk\u001b[0m \u001b[0;32min\u001b[0m \u001b[0mrange\u001b[0m\u001b[0;34m(\u001b[0m\u001b[0mnumest\u001b[0m\u001b[0;34m)\u001b[0m\u001b[0;34m:\u001b[0m\u001b[0;34m\u001b[0m\u001b[0m\n\u001b[0;32m---> 87\u001b[0;31m             \u001b[0m_\u001b[0m\u001b[0;34m,\u001b[0m \u001b[0mr\u001b[0m \u001b[0;34m=\u001b[0m \u001b[0mplay\u001b[0m\u001b[0;34m(\u001b[0m\u001b[0;36m1\u001b[0m\u001b[0;34m,\u001b[0m \u001b[0mT\u001b[0m\u001b[0;34m,\u001b[0m \u001b[0mpolicy_ev\u001b[0m\u001b[0;34m)\u001b[0m\u001b[0;34m\u001b[0m\u001b[0m\n\u001b[0m\u001b[1;32m     88\u001b[0m             \u001b[0mR\u001b[0m\u001b[0;34m[\u001b[0m\u001b[0mj\u001b[0m\u001b[0;34m*\u001b[0m\u001b[0mnumest\u001b[0m \u001b[0;34m+\u001b[0m \u001b[0mk\u001b[0m\u001b[0;34m]\u001b[0m \u001b[0;34m=\u001b[0m \u001b[0mr\u001b[0m\u001b[0;34m\u001b[0m\u001b[0m\n\u001b[1;32m     89\u001b[0m             \u001b[0mK\u001b[0m\u001b[0;34m[\u001b[0m\u001b[0mj\u001b[0m\u001b[0;34m]\u001b[0m \u001b[0;34m+=\u001b[0m \u001b[0mr\u001b[0m\u001b[0;34m\u001b[0m\u001b[0m\n",
      "\u001b[0;32m<ipython-input-12-0023ed531938>\u001b[0m in \u001b[0;36mplay\u001b[0;34m(num_episodes, num_steps, policy, update, preprocess, num_obs)\u001b[0m\n\u001b[1;32m     26\u001b[0m \u001b[0;34m\u001b[0m\u001b[0m\n\u001b[1;32m     27\u001b[0m                 \u001b[0mobservations\u001b[0m\u001b[0;34m.\u001b[0m\u001b[0mappend\u001b[0m\u001b[0;34m(\u001b[0m\u001b[0mnp\u001b[0m\u001b[0;34m.\u001b[0m\u001b[0marray\u001b[0m\u001b[0;34m(\u001b[0m\u001b[0mobs\u001b[0m\u001b[0;34m)\u001b[0m\u001b[0;34m)\u001b[0m\u001b[0;34m\u001b[0m\u001b[0m\n\u001b[0;32m---> 28\u001b[0;31m                 \u001b[0maction\u001b[0m \u001b[0;34m=\u001b[0m \u001b[0mpolicy\u001b[0m\u001b[0;34m(\u001b[0m\u001b[0mnp\u001b[0m\u001b[0;34m.\u001b[0m\u001b[0marray\u001b[0m\u001b[0;34m(\u001b[0m\u001b[0mobs\u001b[0m\u001b[0;34m)\u001b[0m\u001b[0;34m)\u001b[0m\u001b[0;34m\u001b[0m\u001b[0m\n\u001b[0m\u001b[1;32m     29\u001b[0m \u001b[0;34m\u001b[0m\u001b[0m\n\u001b[1;32m     30\u001b[0m             \u001b[0mobservation\u001b[0m\u001b[0;34m,\u001b[0m \u001b[0mreward\u001b[0m\u001b[0;34m,\u001b[0m \u001b[0mdone\u001b[0m\u001b[0;34m,\u001b[0m \u001b[0minfo\u001b[0m \u001b[0;34m=\u001b[0m \u001b[0menv\u001b[0m\u001b[0;34m.\u001b[0m\u001b[0mstep\u001b[0m\u001b[0;34m(\u001b[0m\u001b[0maction\u001b[0m\u001b[0;34m)\u001b[0m\u001b[0;34m\u001b[0m\u001b[0m\n",
      "\u001b[0;32m<ipython-input-13-87aa78870163>\u001b[0m in \u001b[0;36mpolicy_ev\u001b[0;34m(obs)\u001b[0m\n\u001b[1;32m     47\u001b[0m         \u001b[0;31m#b = b/np.sqrt(np.sum(b*b))\u001b[0m\u001b[0;34m\u001b[0m\u001b[0;34m\u001b[0m\u001b[0m\n\u001b[1;32m     48\u001b[0m         \u001b[0mind\u001b[0m \u001b[0;34m=\u001b[0m \u001b[0mind\u001b[0m \u001b[0;34m+\u001b[0m \u001b[0md2\u001b[0m\u001b[0;34m\u001b[0m\u001b[0m\n\u001b[0;32m---> 49\u001b[0;31m         \u001b[0mout\u001b[0m \u001b[0;34m=\u001b[0m \u001b[0mout\u001b[0m\u001b[0;34m.\u001b[0m\u001b[0mdot\u001b[0m\u001b[0;34m(\u001b[0m\u001b[0mw\u001b[0m\u001b[0;34m)\u001b[0m \u001b[0;34m+\u001b[0m \u001b[0mb\u001b[0m\u001b[0;34m\u001b[0m\u001b[0m\n\u001b[0m\u001b[1;32m     50\u001b[0m         \u001b[0;32mif\u001b[0m \u001b[0mind\u001b[0m \u001b[0;34m!=\u001b[0m \u001b[0mlen\u001b[0m\u001b[0;34m(\u001b[0m\u001b[0mW\u001b[0m\u001b[0;34m)\u001b[0m\u001b[0;34m:\u001b[0m\u001b[0;34m\u001b[0m\u001b[0m\n\u001b[1;32m     51\u001b[0m             \u001b[0mout\u001b[0m \u001b[0;34m=\u001b[0m \u001b[0mnp\u001b[0m\u001b[0;34m.\u001b[0m\u001b[0mmaximum\u001b[0m\u001b[0;34m(\u001b[0m\u001b[0mout\u001b[0m\u001b[0;34m,\u001b[0m \u001b[0;36m0\u001b[0m\u001b[0;34m)\u001b[0m\u001b[0;34m\u001b[0m\u001b[0m\n",
      "\u001b[0;31mKeyboardInterrupt\u001b[0m: "
     ]
    }
   ],
   "source": [
    "from collections import deque\n",
    "import random\n",
    "import numpy as np\n",
    "from scipy.special import expit\n",
    "from scipy.stats import truncnorm\n",
    "\n",
    "# correct solution:\n",
    "def softmax(x):\n",
    "    \"\"\"Compute softmax values for each sets of scores in x.\"\"\"\n",
    "    e_x = np.exp(x - np.max(x))\n",
    "    return e_x / e_x.sum(axis=0) # only difference\n",
    "\n",
    "#Evolutionary strategies\n",
    "d = 8\n",
    "bins = 2\n",
    "ds = [d, 256, bins]\n",
    "dim = 0\n",
    "for i in range(len(ds)-1):\n",
    "    dim += (ds[i]+1)*(ds[i+1])\n",
    "\n",
    "obs1 = None\n",
    "    \n",
    "def policy_ev(obs):\n",
    "    \n",
    "    #global obs1\n",
    "    \n",
    "    #if obs1 is None:\n",
    "    #    obs1 = preprocess_observations(obs)\n",
    "    #    return 0\n",
    "    #else:\n",
    "    #    obs2 = preprocess_observations(obs)\n",
    "    #    obs = obs2-obs1\n",
    "    #    obs1 = obs2\n",
    "        \n",
    "    out = obs.reshape(1, d)\n",
    "    \n",
    "    ind = 0\n",
    "    for i in range(len(ds)-1):\n",
    "        out = out.reshape(1, -1)\n",
    "        \n",
    "        d1 = ds[i]\n",
    "        d2 = ds[i+1]\n",
    "        w = W[ind:ind+d1*d2].reshape(d1, d2)\n",
    "        #w = w/np.sqrt(np.sum(w*w))\n",
    "        ind = ind+d1*d2\n",
    "        b = W[ind:ind+d2]\n",
    "        #b = b/np.sqrt(np.sum(b*b))\n",
    "        ind = ind + d2\n",
    "        out = out.dot(w) + b\n",
    "        if ind != len(W):\n",
    "            out = np.maximum(out, 0)\n",
    "    \n",
    "    a = np.clip(out[0], -1, 1) \n",
    "    #np.argmax(out)+2\n",
    "    #print(a)\n",
    "    return a #np.argmax(out[0])\n",
    "\n",
    "nparticles = 100\n",
    "print(\"Initializing Weights...\")\n",
    "Wx = np.random.randn(nparticles, dim) *0.1\n",
    "print(\"Weights Initialized\")\n",
    "print()\n",
    "\n",
    "env = gym.make(\"Swimmer-v1\")\n",
    "#env = wrappers.Monitor(env, '/tmp/mountaincar-experiment-1',force=True)\n",
    "\n",
    "#npop = 1000\n",
    "it = 10000\n",
    "std = 1e-2\n",
    "t = 1\n",
    "dec = 0.999\n",
    "alpha = 1\n",
    "numest = 1\n",
    "T = 500\n",
    "\n",
    "K = np.zeros(nparticles)\n",
    "R = np.zeros(nparticles*numest)\n",
    "\n",
    "for i in range(it):\n",
    "    \n",
    "    for j in range(nparticles):\n",
    "        W = Wx[j]\n",
    "        obs1 = None\n",
    "        K[j] = 0\n",
    "        \n",
    "        for k in range(numest):\n",
    "            _, r = play(1, T, policy_ev)\n",
    "            R[j*numest + k] = r\n",
    "            K[j] += r\n",
    "            \n",
    "        #X = R[j*numest:j*numest+numest]\n",
    "        #print(np.mean(X), np.std(X), np.min(X), np.max(X))\n",
    "        \n",
    "    eps = 1e-6\n",
    "    p = softmax(K*t)\n",
    "    Wz = np.zeros((nparticles, dim))\n",
    "    \n",
    "    s = np.random.choice(nparticles, size=nparticles, replace=True, p=p)\n",
    "    for j in range(nparticles):\n",
    "        Wz[j] = Wx[s[j]]\n",
    "    \n",
    "    Wx = Wz\n",
    "    \n",
    "    N = (np.random.randn(nparticles, dim)*std) #*(1-p).reshape(-1,1)\n",
    "    Wx += N\n",
    "    #t *= dec\n",
    "    print(\"Episode finished\", np.mean(R), np.std(R), np.min(R), np.max(R))\n",
    "    \n",
    "env.close()\n"
   ]
  },
  {
   "cell_type": "code",
   "execution_count": 6,
   "metadata": {},
   "outputs": [
    {
     "name": "stdout",
     "output_type": "stream",
     "text": [
      "The autoreload extension is already loaded. To reload it, use:\n",
      "  %reload_ext autoreload\n"
     ]
    }
   ],
   "source": [
    "%load_ext autoreload \n",
    "%autoreload 2\n",
    "%matplotlib inline"
   ]
  },
  {
   "cell_type": "code",
   "execution_count": 5,
   "metadata": {
    "scrolled": true
   },
   "outputs": [
    {
     "ename": "NameError",
     "evalue": "name 'gym' is not defined",
     "output_type": "error",
     "traceback": [
      "\u001b[0;31m---------------------------------------------------------------------------\u001b[0m",
      "\u001b[0;31mNameError\u001b[0m                                 Traceback (most recent call last)",
      "\u001b[0;32m<ipython-input-5-a84c15e3ba56>\u001b[0m in \u001b[0;36m<module>\u001b[0;34m()\u001b[0m\n\u001b[1;32m      2\u001b[0m \u001b[0;32mimport\u001b[0m \u001b[0mmatplotlib\u001b[0m\u001b[0;34m.\u001b[0m\u001b[0mpyplot\u001b[0m \u001b[0;32mas\u001b[0m \u001b[0mplt\u001b[0m\u001b[0;34m\u001b[0m\u001b[0m\n\u001b[1;32m      3\u001b[0m \u001b[0;34m\u001b[0m\u001b[0m\n\u001b[0;32m----> 4\u001b[0;31m \u001b[0menv\u001b[0m \u001b[0;34m=\u001b[0m \u001b[0mgym\u001b[0m\u001b[0;34m.\u001b[0m\u001b[0mmake\u001b[0m\u001b[0;34m(\u001b[0m\u001b[0;34m\"Pong-v0\"\u001b[0m\u001b[0;34m)\u001b[0m\u001b[0;34m\u001b[0m\u001b[0m\n\u001b[0m\u001b[1;32m      5\u001b[0m \u001b[0;31m#env = wrappers.Monitor(env, '/tmp/acrobot-v1',force=True)\u001b[0m\u001b[0;34m\u001b[0m\u001b[0;34m\u001b[0m\u001b[0m\n\u001b[1;32m      6\u001b[0m \u001b[0;34m\u001b[0m\u001b[0m\n",
      "\u001b[0;31mNameError\u001b[0m: name 'gym' is not defined"
     ]
    }
   ],
   "source": [
    "from lib.VanillaPolicyGradient import *\n",
    "import matplotlib.pyplot as plt\n",
    "\n",
    "env = gym.make(\"Pong-v0\")\n",
    "#env = wrappers.Monitor(env, '/tmp/acrobot-v1',force=True)\n",
    "\n",
    "d = 6\n",
    "bins = 2\n",
    "num_obs = 2\n",
    "input_shape = (None, num_obs, 80, 80, 1)\n",
    "layers = ['flatten', 'fc', (None, 256)]\n",
    "lr = 1e-4\n",
    "discount = 0.99\n",
    "T = 5000\n",
    "\n",
    "#vpg = VanillaPG(input_shape, layers, num_actions=bins, learning_rate=lr)\n",
    "plot_rews = []\n",
    "\n",
    "avg_rew = 0\n",
    "alpha = 0.9\n",
    "batch_size = 32\n",
    "\n",
    "def update(actions, states, rewards):\n",
    "    \n",
    "    acc_rew = []\n",
    "    n = len(rewards)\n",
    "    \n",
    "    acc_rew.append(rewards[-1])\n",
    "    for i in range(n-1):\n",
    "        acc_rew = [discount*acc_rew[0] + rewards[n-i-1]] + acc_rew\n",
    "    \n",
    "    for i in range(n):\n",
    "        acc_rew[i] -= acc_rew[i]/(n-i)\n",
    "    \n",
    "    states = np.array(states, dtype=np.float32)\n",
    "    actions = np.array(actions)\n",
    "    advantages = np.array(acc_rew)\n",
    "    \n",
    "    split_states = np.array_split(states, batch_size)\n",
    "    split_actions = np.array_split(actions, batch_size)\n",
    "    split_advantages = np.array_split(advantages, batch_size)\n",
    "    for st, ac, ad in zip(split_states, split_actions, split_advantages):\n",
    "        vpg.update(st, ac, ad)\n",
    "    \n",
    "    plot_rews.append(np.sum(rewards))\n",
    "    \n",
    "    global avg_rew\n",
    "    avg_rew = alpha*avg_rew + (1-alpha)*np.sum(rewards)\n",
    "    \n",
    "    if len(plot_rews) % 20 == 0:\n",
    "        print(avg_rew, np.sum(rewards))\n",
    "    \n",
    "    if len(plot_rews)%100 == 0:\n",
    "        plt.clf()\n",
    "        plt.plot(plot_rews)\n",
    "        plt.show()\n",
    "    \n",
    "def policy(obs):\n",
    "    return vpg.choose_action(obs)[0]+2\n",
    "\n",
    "play(1000000, T, policy, update, preprocess=preprocess_observations, num_obs=num_obs)"
   ]
  },
  {
   "cell_type": "code",
   "execution_count": 12,
   "metadata": {
    "collapsed": true
   },
   "outputs": [],
   "source": [
    "import gym\n",
    "from gym import wrappers\n",
    "import matplotlib.pyplot as plt\n",
    "\n",
    "def play(num_episodes, num_steps, policy, update=None, preprocess = None, num_obs=1):\n",
    "    time_steps = []\n",
    "    for i_episode in range(num_episodes):\n",
    "        observation = env.reset()\n",
    "        states, actions, rewards = [], [], []\n",
    "        observations = []\n",
    "        r = 0\n",
    "        for t in range(num_steps):\n",
    "            #env.render()\n",
    "            #observation = np.concatenate((np.array([observation[0]]),observation[1]))\n",
    "            \n",
    "            states.append(observation)\n",
    "            \n",
    "            if len(states) < num_obs:\n",
    "                action = env.action_space.sample()\n",
    "            else:\n",
    "                obs = states[-num_obs:]\n",
    "                \n",
    "                if preprocess is not None:\n",
    "                    for i in range(num_obs):\n",
    "                        obs[i] = preprocess(obs[i])\n",
    "                \n",
    "                observations.append(np.array(obs))\n",
    "                action = policy(np.array(obs))\n",
    "\n",
    "            observation, reward, done, info = env.step(action)\n",
    "            r += reward\n",
    "            \n",
    "            actions.append(action)\n",
    "            rewards.append(reward)\n",
    "                \n",
    "            if done:\n",
    "                break\n",
    "        \n",
    "        if update:\n",
    "            update(actions[num_obs-1:], observations, rewards[num_obs-1:])\n",
    "        \n",
    "        time_steps.append(t)\n",
    "\n",
    "    #env.close()\n",
    "    #w, b = best_params\n",
    "    return time_steps, r"
   ]
  },
  {
   "cell_type": "code",
   "execution_count": 1,
   "metadata": {},
   "outputs": [
    {
     "name": "stderr",
     "output_type": "stream",
     "text": [
      "[2017-05-30 18:43:30,113] Training directory /tmp/mountaincar-experiment-1 not found\n",
      "[2017-05-30 18:43:30,195] An unexpected error occurred while tokenizing input\n",
      "The following traceback may be corrupted or invalid\n",
      "The error message is: ('EOF in multi-line string', (1, 238))\n",
      "\n"
     ]
    },
    {
     "ename": "Error",
     "evalue": "Could not find any manifest files in /tmp/mountaincar-experiment-1.\n\n(HINT: this usually means you did not yet close() your env.monitor and have not yet exited the process. You should call 'env.monitor.start(training_dir)' at the start of training and 'env.monitor.close()' at the end, or exit the process.)",
     "output_type": "error",
     "traceback": [
      "\u001b[0;31m---------------------------------------------------------------------------\u001b[0m",
      "\u001b[0;31mError\u001b[0m                                     Traceback (most recent call last)",
      "\u001b[0;32m<ipython-input-1-6e2776779318>\u001b[0m in \u001b[0;36m<module>\u001b[0;34m()\u001b[0m\n\u001b[1;32m      2\u001b[0m \u001b[0;32mfrom\u001b[0m \u001b[0mgym\u001b[0m \u001b[0;32mimport\u001b[0m \u001b[0mwrappers\u001b[0m\u001b[0;34m\u001b[0m\u001b[0m\n\u001b[1;32m      3\u001b[0m \u001b[0;34m\u001b[0m\u001b[0m\n\u001b[0;32m----> 4\u001b[0;31m \u001b[0mgym\u001b[0m\u001b[0;34m.\u001b[0m\u001b[0mupload\u001b[0m\u001b[0;34m(\u001b[0m\u001b[0;34m'/tmp/mountaincar-experiment-1'\u001b[0m\u001b[0;34m,\u001b[0m \u001b[0mapi_key\u001b[0m\u001b[0;34m=\u001b[0m\u001b[0;34m'sk_aJYIMFATbWMBRlWoleTQ'\u001b[0m\u001b[0;34m)\u001b[0m\u001b[0;34m\u001b[0m\u001b[0m\n\u001b[0m",
      "\u001b[0;32m/Users/Jarvis/Desktop/Development/ml/experiments/gym/gym/scoreboard/api.py\u001b[0m in \u001b[0;36mupload\u001b[0;34m(training_dir, algorithm_id, writeup, tags, benchmark_id, api_key, ignore_open_monitors)\u001b[0m\n\u001b[1;32m     81\u001b[0m         \u001b[0;31m# Single evalution upload\u001b[0m\u001b[0;34m\u001b[0m\u001b[0;34m\u001b[0m\u001b[0m\n\u001b[1;32m     82\u001b[0m         \u001b[0mbenchmark_run_id\u001b[0m \u001b[0;34m=\u001b[0m \u001b[0;32mNone\u001b[0m\u001b[0;34m\u001b[0m\u001b[0m\n\u001b[0;32m---> 83\u001b[0;31m         \u001b[0mevaluation\u001b[0m \u001b[0;34m=\u001b[0m \u001b[0m_upload\u001b[0m\u001b[0;34m(\u001b[0m\u001b[0mtraining_dir\u001b[0m\u001b[0;34m,\u001b[0m \u001b[0malgorithm_id\u001b[0m\u001b[0;34m,\u001b[0m \u001b[0mwriteup\u001b[0m\u001b[0;34m,\u001b[0m \u001b[0mbenchmark_run_id\u001b[0m\u001b[0;34m,\u001b[0m \u001b[0mapi_key\u001b[0m\u001b[0;34m,\u001b[0m \u001b[0mignore_open_monitors\u001b[0m\u001b[0;34m)\u001b[0m\u001b[0;34m\u001b[0m\u001b[0m\n\u001b[0m\u001b[1;32m     84\u001b[0m \u001b[0;34m\u001b[0m\u001b[0m\n\u001b[1;32m     85\u001b[0m         logger.info(\"\"\"\n",
      "\u001b[0;32m/Users/Jarvis/Desktop/Development/ml/experiments/gym/gym/scoreboard/api.py\u001b[0m in \u001b[0;36m_upload\u001b[0;34m(training_dir, algorithm_id, writeup, benchmark_run_id, api_key, ignore_open_monitors)\u001b[0m\n\u001b[1;32m    102\u001b[0m             \u001b[0;32mraise\u001b[0m \u001b[0merror\u001b[0m\u001b[0;34m.\u001b[0m\u001b[0mError\u001b[0m\u001b[0;34m(\u001b[0m\u001b[0;34m\"Still have an open monitor on {}. You must run 'env.close()' before uploading.\"\u001b[0m\u001b[0;34m.\u001b[0m\u001b[0mformat\u001b[0m\u001b[0;34m(\u001b[0m\u001b[0;34m', '\u001b[0m\u001b[0;34m.\u001b[0m\u001b[0mjoin\u001b[0m\u001b[0;34m(\u001b[0m\u001b[0menvs\u001b[0m\u001b[0;34m)\u001b[0m\u001b[0;34m)\u001b[0m\u001b[0;34m)\u001b[0m\u001b[0;34m\u001b[0m\u001b[0m\n\u001b[1;32m    103\u001b[0m \u001b[0;34m\u001b[0m\u001b[0m\n\u001b[0;32m--> 104\u001b[0;31m     \u001b[0menv_info\u001b[0m\u001b[0;34m,\u001b[0m \u001b[0mtraining_episode_batch\u001b[0m\u001b[0;34m,\u001b[0m \u001b[0mtraining_video\u001b[0m \u001b[0;34m=\u001b[0m \u001b[0mupload_training_data\u001b[0m\u001b[0;34m(\u001b[0m\u001b[0mtraining_dir\u001b[0m\u001b[0;34m,\u001b[0m \u001b[0mapi_key\u001b[0m\u001b[0;34m=\u001b[0m\u001b[0mapi_key\u001b[0m\u001b[0;34m)\u001b[0m\u001b[0;34m\u001b[0m\u001b[0m\n\u001b[0m\u001b[1;32m    105\u001b[0m     \u001b[0menv_id\u001b[0m \u001b[0;34m=\u001b[0m \u001b[0menv_info\u001b[0m\u001b[0;34m[\u001b[0m\u001b[0;34m'env_id'\u001b[0m\u001b[0;34m]\u001b[0m\u001b[0;34m\u001b[0m\u001b[0m\n\u001b[1;32m    106\u001b[0m     \u001b[0mtraining_episode_batch_id\u001b[0m \u001b[0;34m=\u001b[0m \u001b[0mtraining_video_id\u001b[0m \u001b[0;34m=\u001b[0m \u001b[0;32mNone\u001b[0m\u001b[0;34m\u001b[0m\u001b[0m\n",
      "\u001b[0;32m/Users/Jarvis/Desktop/Development/ml/experiments/gym/gym/scoreboard/api.py\u001b[0m in \u001b[0;36mupload_training_data\u001b[0;34m(training_dir, api_key)\u001b[0m\n\u001b[1;32m    141\u001b[0m         raise error.Error('''Could not find any manifest files in {}.\n\u001b[1;32m    142\u001b[0m \u001b[0;34m\u001b[0m\u001b[0m\n\u001b[0;32m--> 143\u001b[0;31m (HINT: this usually means you did not yet close() your env.monitor and have not yet exited the process. You should call 'env.monitor.start(training_dir)' at the start of training and 'env.monitor.close()' at the end, or exit the process.)'''.format(training_dir))\n\u001b[0m\u001b[1;32m    144\u001b[0m \u001b[0;34m\u001b[0m\u001b[0m\n\u001b[1;32m    145\u001b[0m     \u001b[0mmanifests\u001b[0m \u001b[0;34m=\u001b[0m \u001b[0mresults\u001b[0m\u001b[0;34m[\u001b[0m\u001b[0;34m'manifests'\u001b[0m\u001b[0;34m]\u001b[0m\u001b[0;34m\u001b[0m\u001b[0m\n",
      "\u001b[0;31mError\u001b[0m: Could not find any manifest files in /tmp/mountaincar-experiment-1.\n\n(HINT: this usually means you did not yet close() your env.monitor and have not yet exited the process. You should call 'env.monitor.start(training_dir)' at the start of training and 'env.monitor.close()' at the end, or exit the process.)"
     ]
    }
   ],
   "source": [
    "import gym\n",
    "from gym import wrappers\n",
    "\n",
    "gym.upload('/tmp/mountaincar-experiment-1', api_key='sk_aJYIMFATbWMBRlWoleTQ')"
   ]
  },
  {
   "cell_type": "code",
   "execution_count": 242,
   "metadata": {
    "collapsed": true
   },
   "outputs": [],
   "source": [
    "for i in range(10000):\n",
    "    x = (np.random.randn()*0.2)\n",
    "    if x > 1 or x < -1:\n",
    "        print(x)"
   ]
  },
  {
   "cell_type": "code",
   "execution_count": 260,
   "metadata": {},
   "outputs": [
    {
     "data": {
      "text/plain": [
       "0.60728585378441924"
      ]
     },
     "execution_count": 260,
     "metadata": {},
     "output_type": "execute_result"
    }
   ],
   "source": [
    "m=1\n",
    "v=2\n",
    "x1 = -2\n",
    "x2 = +2\n",
    "\n",
    "truncnorm.rvs((x1-m)/v, (x2-m)/v, loc=m, scale=v)"
   ]
  },
  {
   "cell_type": "code",
   "execution_count": 8,
   "metadata": {},
   "outputs": [
    {
     "name": "stderr",
     "output_type": "stream",
     "text": [
      "[2017-05-28 17:15:43,644] Making new env: AirRaid-ram-v0\n"
     ]
    },
    {
     "data": {
      "text/plain": [
       "4"
      ]
     },
     "execution_count": 8,
     "metadata": {},
     "output_type": "execute_result"
    }
   ],
   "source": [
    "import gym\n",
    "env = gym.make(\"AirRaid-ram-v0\")\n",
    "env.action_space.sample()"
   ]
  },
  {
   "cell_type": "code",
   "execution_count": 16,
   "metadata": {},
   "outputs": [
    {
     "data": {
      "text/plain": [
       "[1, 2, 3, 4]"
      ]
     },
     "execution_count": 16,
     "metadata": {},
     "output_type": "execute_result"
    }
   ],
   "source": [
    "x = [1, 2, 3, 4]\n",
    "x[0:]"
   ]
  },
  {
   "cell_type": "code",
   "execution_count": null,
   "metadata": {
    "collapsed": true
   },
   "outputs": [],
   "source": []
  }
 ],
 "metadata": {
  "kernelspec": {
   "display_name": "Python 3",
   "language": "python",
   "name": "python3"
  },
  "language_info": {
   "codemirror_mode": {
    "name": "ipython",
    "version": 3
   },
   "file_extension": ".py",
   "mimetype": "text/x-python",
   "name": "python",
   "nbconvert_exporter": "python",
   "pygments_lexer": "ipython3",
   "version": "3.5.2"
  },
  "widgets": {
   "state": {},
   "version": "1.1.2"
  }
 },
 "nbformat": 4,
 "nbformat_minor": 2
}
