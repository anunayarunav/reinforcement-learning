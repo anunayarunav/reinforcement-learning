{
 "cells": [
  {
   "cell_type": "code",
   "execution_count": 1,
   "metadata": {
    "collapsed": false
   },
   "outputs": [
    {
     "name": "stdout",
     "output_type": "stream",
     "text": [
      "{'W': array([ 0.18526001, -1.95088233, -2.61575886,  0.75538765])}\n",
      "-8.29446580147\n",
      "0\n",
      "{'W': array([ -2.49833549e-05,  -4.99667098e-05,  -7.49500647e-04,\n",
      "         2.49833549e-05])} \n",
      " {'W': array([ -2.49833565e-05,  -4.99667075e-05,  -7.49500645e-04,\n",
      "         2.49833565e-05])}\n"
     ]
    }
   ],
   "source": [
    "import numpy as np\n",
    "#Policy gradient\n",
    "\n",
    "def get_obsx(obs):\n",
    "    obx = np.array(obs)\n",
    "    obx = obx/np.sum(obx*obx)\n",
    "    return obs\n",
    "\n",
    "def value(params, obs):\n",
    "    W = params['W']\n",
    "    obsx = get_obsx(obs)\n",
    "    score = np.sum(W*np.array(obsx))\n",
    "    return score\n",
    "\n",
    "def probability(params, action, obs):\n",
    "    score = value(params, obs)\n",
    "    a = -(action-0.5)*2\n",
    "    return 1/(1 + np.exp(a*score))\n",
    "\n",
    "def policy(params, obs):\n",
    "    p = probability(params, 0, obs)\n",
    "    s = np.random.rand()\n",
    "    if s > p:\n",
    "        return 1\n",
    "    else:\n",
    "        return 0\n",
    "\n",
    "def gradient(params, action, obs):\n",
    "    gradients = {}\n",
    "    a = -(action-0.5)*2\n",
    "    score = value(params, obs)\n",
    "    obsx = get_obsx(obs)\n",
    "    gradients['W'] = -np.exp(a*score)*a*np.array(obsx)/(1+np.exp(a*score))\n",
    "    \n",
    "    return gradients\n",
    "    \n",
    "def num_gradient(params, action, obs):\n",
    "    h = 1e-5\n",
    "    W = params['W']\n",
    "    gradients = {}\n",
    "    gradients['W'] = np.zeros(len(W))\n",
    "\n",
    "    for i in range(len(W)):\n",
    "        W[i] += h\n",
    "        p1 = probability(params, action, obs)\n",
    "        W[i] -= 2*h\n",
    "        p2 = probability(params, action, obs)\n",
    "        W[i] += h\n",
    "        gradients['W'][i] = (np.log(p1)-np.log(p2))/(2*h)\n",
    "        \n",
    "    return gradients\n",
    "    \n",
    "def update_gradients(params, actions, states, rewards):\n",
    "    n = len(actions)\n",
    "    if n == 0:\n",
    "        return\n",
    "    \n",
    "    learning_rate = params['learning_rate']\n",
    "    discount = params['discount']\n",
    "    b = params['b']\n",
    "    acc_rew = []\n",
    "    acc_rew.append(rewards[-1])\n",
    "    for i in range(n-1):\n",
    "        acc_rew = [discount*acc_rew[0] + rewards[n-i-1]] + acc_rew\n",
    "    \n",
    "    g0 = np.zeros(len(params['W']))\n",
    "    for i in range(n):\n",
    "        g = gradient(params, actions[i], states[i])\n",
    "        g0 += (acc_rew[i]-b*acc_rew[i]/(n-i))*g['W']\n",
    "    \n",
    "    params['W'] += learning_rate*g0\n",
    "    \n",
    "params = {'W':np.random.randn(4)}\n",
    "obs = [0.1, 0.2, 3, -0.1]\n",
    "action = policy(params, obs)\n",
    "print(params)\n",
    "print(value(params, obs))\n",
    "print(policy(params, obs))\n",
    "print(gradient(params, action, obs),'\\n',num_gradient(params, action, obs))"
   ]
  },
  {
   "cell_type": "code",
   "execution_count": 2,
   "metadata": {
    "collapsed": true
   },
   "outputs": [],
   "source": [
    "#Sarsa Policy\n",
    "def policy_sarsa(params, obs):\n",
    "    W1, W2 = params['W1'], params['W2']\n",
    "    eps = params['eps']\n",
    "    q1 = np.sum(W1*obs)\n",
    "    q2 = np.sum(W2*obs)\n",
    "    \n",
    "    r = np.random.rand()\n",
    "    best = 0\n",
    "    if q2 > q1:\n",
    "        best = 1\n",
    "        \n",
    "    if r < 1-eps+eps/2:\n",
    "        return best\n",
    "    else:\n",
    "        return 1-best\n",
    "    \n",
    "def update_sarsa(params, actions, states, rewards):\n",
    "    n = len(actions)\n",
    "    if n == 0:\n",
    "        return\n",
    "    \n",
    "    learning_rate = params['learning_rate']\n",
    "    discount = params['discount']\n",
    "    \n",
    "    acc_rew = []\n",
    "    acc_rew.append(rewards[-1])\n",
    "    for i in range(n-1):\n",
    "        acc_rew = [discount*acc_rew[0] + rewards[n-i-1]] + acc_rew\n",
    "    \n",
    "    g1 = np.zeros(4)\n",
    "    g2 = np.zeros(4)\n",
    "    W1 = params['W1']\n",
    "    W2 = params['W2']\n",
    "    \n",
    "    for i in range(n):\n",
    "        if actions[i] == 0:\n",
    "            W = params['W1']\n",
    "            g = g1\n",
    "        else:\n",
    "            W = params['W2']\n",
    "            g = g2\n",
    "            \n",
    "        q = np.sum(states[i]*W)\n",
    "        g += learning_rate*(q-acc_rew[i])*states[i]\n",
    "    \n",
    "    W1 -= g1\n",
    "    W2 -= g2\n",
    "    params['eps'] *= 0.999\n",
    "    params['learning_rate'] = 1/params['time_step']"
   ]
  },
  {
   "cell_type": "code",
   "execution_count": 4,
   "metadata": {
    "collapsed": false,
    "scrolled": true
   },
   "outputs": [
    {
     "name": "stderr",
     "output_type": "stream",
     "text": [
      "[2017-05-02 16:02:12,360] Making new env: CartPole-v1\n",
      "[2017-05-02 16:02:12,377] DEPRECATION WARNING: env.spec.timestep_limit has been deprecated. Replace your call to `env.spec.timestep_limit` with `env.spec.tags.get('wrapper_config.TimeLimit.max_episode_steps')`. This change was made 12/28/2016 and is included in version 0.7.0\n",
      "[2017-05-02 16:02:12,379] Clearing 68 monitor files from previous run (because force=True was provided)\n",
      "[2017-05-02 16:02:12,387] Starting new video recorder writing to /tmp/cartpole-experiment-7/openaigym.video.0.21662.video000000.mp4\n"
     ]
    },
    {
     "name": "stdout",
     "output_type": "stream",
     "text": [
      "5\n"
     ]
    },
    {
     "name": "stderr",
     "output_type": "stream",
     "text": [
      "[2017-05-02 16:02:13,188] Starting new video recorder writing to /tmp/cartpole-experiment-7/openaigym.video.0.21662.video000001.mp4\n",
      "[2017-05-02 16:02:13,438] Starting new video recorder writing to /tmp/cartpole-experiment-7/openaigym.video.0.21662.video000008.mp4\n",
      "[2017-05-02 16:02:14,137] Starting new video recorder writing to /tmp/cartpole-experiment-7/openaigym.video.0.21662.video000027.mp4\n",
      "[2017-05-02 16:02:14,339] Starting new video recorder writing to /tmp/cartpole-experiment-7/openaigym.video.0.21662.video000064.mp4\n",
      "[2017-05-02 16:02:14,580] Starting new video recorder writing to /tmp/cartpole-experiment-7/openaigym.video.0.21662.video000125.mp4\n"
     ]
    },
    {
     "name": "stdout",
     "output_type": "stream",
     "text": [
      "16.56\n"
     ]
    },
    {
     "name": "stderr",
     "output_type": "stream",
     "text": [
      "[2017-05-02 16:02:17,056] Starting new video recorder writing to /tmp/cartpole-experiment-7/openaigym.video.0.21662.video000216.mp4\n"
     ]
    },
    {
     "name": "stdout",
     "output_type": "stream",
     "text": [
      "54.02\n",
      "171.79\n"
     ]
    },
    {
     "name": "stderr",
     "output_type": "stream",
     "text": [
      "[2017-05-02 16:02:19,027] Starting new video recorder writing to /tmp/cartpole-experiment-7/openaigym.video.0.21662.video000343.mp4\n"
     ]
    },
    {
     "name": "stdout",
     "output_type": "stream",
     "text": [
      "355.21\n"
     ]
    },
    {
     "name": "stderr",
     "output_type": "stream",
     "text": [
      "[2017-05-02 16:02:28,109] Starting new video recorder writing to /tmp/cartpole-experiment-7/openaigym.video.0.21662.video000512.mp4\n"
     ]
    },
    {
     "name": "stdout",
     "output_type": "stream",
     "text": [
      "415.95\n",
      "439.3\n",
      "421.35\n"
     ]
    },
    {
     "name": "stderr",
     "output_type": "stream",
     "text": [
      "[2017-05-02 16:02:38,090] Starting new video recorder writing to /tmp/cartpole-experiment-7/openaigym.video.0.21662.video000729.mp4\n"
     ]
    },
    {
     "name": "stdout",
     "output_type": "stream",
     "text": [
      "478.04\n",
      "493.51\n"
     ]
    },
    {
     "name": "stderr",
     "output_type": "stream",
     "text": [
      "[2017-05-02 16:02:51,271] Starting new video recorder writing to /tmp/cartpole-experiment-7/openaigym.video.0.21662.video001000.mp4\n"
     ]
    },
    {
     "name": "stdout",
     "output_type": "stream",
     "text": [
      "496.89\n",
      "496.91\n",
      "490.46\n",
      "491.46\n",
      "499.22\n",
      "491.06\n",
      "495.39\n",
      "498.6\n",
      "498.61\n",
      "495.91\n"
     ]
    },
    {
     "name": "stderr",
     "output_type": "stream",
     "text": [
      "[2017-05-02 16:03:17,555] Starting new video recorder writing to /tmp/cartpole-experiment-7/openaigym.video.0.21662.video002000.mp4\n"
     ]
    },
    {
     "name": "stdout",
     "output_type": "stream",
     "text": [
      "497.84\n",
      "490.96\n",
      "498.4\n",
      "493.51\n",
      "500.0\n",
      "500.0\n",
      "497.94\n",
      "497.81\n",
      "498.01\n",
      "499.28\n"
     ]
    },
    {
     "name": "stderr",
     "output_type": "stream",
     "text": [
      "[2017-05-02 16:03:41,225] Starting new video recorder writing to /tmp/cartpole-experiment-7/openaigym.video.0.21662.video003000.mp4\n"
     ]
    },
    {
     "name": "stdout",
     "output_type": "stream",
     "text": [
      "500.0\n",
      "500.0\n",
      "500.0\n",
      "500.0\n",
      "500.0\n",
      "500.0\n",
      "500.0\n",
      "500.0\n",
      "500.0\n",
      "500.0\n"
     ]
    },
    {
     "name": "stderr",
     "output_type": "stream",
     "text": [
      "[2017-05-02 16:04:01,538] Starting new video recorder writing to /tmp/cartpole-experiment-7/openaigym.video.0.21662.video004000.mp4\n"
     ]
    },
    {
     "name": "stdout",
     "output_type": "stream",
     "text": [
      "500.0\n",
      "500.0\n",
      "500.0\n",
      "500.0\n",
      "500.0\n",
      "500.0\n",
      "500.0\n",
      "500.0\n",
      "500.0\n",
      "500.0\n"
     ]
    },
    {
     "name": "stderr",
     "output_type": "stream",
     "text": [
      "[2017-05-02 16:04:22,012] Starting new video recorder writing to /tmp/cartpole-experiment-7/openaigym.video.0.21662.video005000.mp4\n"
     ]
    },
    {
     "name": "stdout",
     "output_type": "stream",
     "text": [
      "500.0\n",
      "500.0\n",
      "500.0\n",
      "500.0\n",
      "500.0\n",
      "500.0\n",
      "500.0\n",
      "500.0\n",
      "500.0\n",
      "500.0\n"
     ]
    },
    {
     "name": "stderr",
     "output_type": "stream",
     "text": [
      "[2017-05-02 16:04:42,264] Starting new video recorder writing to /tmp/cartpole-experiment-7/openaigym.video.0.21662.video006000.mp4\n"
     ]
    },
    {
     "name": "stdout",
     "output_type": "stream",
     "text": [
      "500.0\n",
      "500.0\n",
      "500.0\n",
      "500.0\n",
      "500.0\n",
      "500.0\n",
      "500.0\n",
      "500.0\n",
      "500.0\n",
      "500.0\n"
     ]
    },
    {
     "name": "stderr",
     "output_type": "stream",
     "text": [
      "[2017-05-02 16:05:02,564] Starting new video recorder writing to /tmp/cartpole-experiment-7/openaigym.video.0.21662.video007000.mp4\n"
     ]
    },
    {
     "name": "stdout",
     "output_type": "stream",
     "text": [
      "500.0\n",
      "500.0\n",
      "500.0\n",
      "500.0\n",
      "500.0\n",
      "500.0\n",
      "500.0\n",
      "500.0\n",
      "500.0\n",
      "500.0\n"
     ]
    },
    {
     "name": "stderr",
     "output_type": "stream",
     "text": [
      "[2017-05-02 16:05:23,309] Starting new video recorder writing to /tmp/cartpole-experiment-7/openaigym.video.0.21662.video008000.mp4\n"
     ]
    },
    {
     "name": "stdout",
     "output_type": "stream",
     "text": [
      "500.0\n",
      "500.0\n",
      "500.0\n",
      "500.0\n",
      "500.0\n",
      "500.0\n",
      "500.0\n",
      "500.0\n",
      "500.0\n",
      "500.0\n"
     ]
    },
    {
     "name": "stderr",
     "output_type": "stream",
     "text": [
      "[2017-05-02 16:05:45,447] Starting new video recorder writing to /tmp/cartpole-experiment-7/openaigym.video.0.21662.video009000.mp4\n"
     ]
    },
    {
     "name": "stdout",
     "output_type": "stream",
     "text": [
      "500.0\n",
      "500.0\n",
      "500.0\n",
      "500.0\n",
      "500.0\n",
      "500.0\n",
      "500.0\n",
      "500.0\n",
      "500.0\n",
      "500.0\n"
     ]
    },
    {
     "name": "stderr",
     "output_type": "stream",
     "text": [
      "[2017-05-02 16:06:05,975] Starting new video recorder writing to /tmp/cartpole-experiment-7/openaigym.video.0.21662.video010000.mp4\n"
     ]
    },
    {
     "name": "stdout",
     "output_type": "stream",
     "text": [
      "500.0\n",
      "500.0\n",
      "500.0\n",
      "500.0\n",
      "500.0\n",
      "500.0\n",
      "500.0\n",
      "500.0\n",
      "500.0\n",
      "500.0\n"
     ]
    },
    {
     "name": "stderr",
     "output_type": "stream",
     "text": [
      "[2017-05-02 16:06:24,327] Starting new video recorder writing to /tmp/cartpole-experiment-7/openaigym.video.0.21662.video011000.mp4\n"
     ]
    },
    {
     "name": "stdout",
     "output_type": "stream",
     "text": [
      "500.0\n",
      "500.0\n",
      "500.0\n",
      "500.0\n",
      "500.0\n",
      "500.0\n",
      "500.0\n",
      "500.0\n",
      "500.0\n",
      "500.0\n"
     ]
    },
    {
     "name": "stderr",
     "output_type": "stream",
     "text": [
      "[2017-05-02 16:06:43,898] Starting new video recorder writing to /tmp/cartpole-experiment-7/openaigym.video.0.21662.video012000.mp4\n"
     ]
    },
    {
     "name": "stdout",
     "output_type": "stream",
     "text": [
      "500.0\n",
      "500.0\n",
      "500.0\n",
      "500.0\n",
      "500.0\n",
      "500.0\n",
      "500.0\n",
      "500.0\n",
      "500.0\n",
      "500.0\n"
     ]
    },
    {
     "name": "stderr",
     "output_type": "stream",
     "text": [
      "[2017-05-02 16:07:01,928] Starting new video recorder writing to /tmp/cartpole-experiment-7/openaigym.video.0.21662.video013000.mp4\n"
     ]
    },
    {
     "name": "stdout",
     "output_type": "stream",
     "text": [
      "500.0\n",
      "500.0\n",
      "500.0\n",
      "500.0\n",
      "500.0\n",
      "500.0\n",
      "500.0\n",
      "500.0\n",
      "500.0\n",
      "500.0\n"
     ]
    },
    {
     "name": "stderr",
     "output_type": "stream",
     "text": [
      "[2017-05-02 16:07:17,504] Starting new video recorder writing to /tmp/cartpole-experiment-7/openaigym.video.0.21662.video014000.mp4\n"
     ]
    },
    {
     "name": "stdout",
     "output_type": "stream",
     "text": [
      "500.0\n",
      "500.0\n",
      "500.0\n",
      "500.0\n",
      "500.0\n",
      "500.0\n",
      "500.0\n",
      "500.0\n",
      "500.0\n",
      "500.0\n"
     ]
    },
    {
     "name": "stderr",
     "output_type": "stream",
     "text": [
      "[2017-05-02 16:07:33,043] Starting new video recorder writing to /tmp/cartpole-experiment-7/openaigym.video.0.21662.video015000.mp4\n"
     ]
    },
    {
     "name": "stdout",
     "output_type": "stream",
     "text": [
      "500.0\n",
      "500.0\n",
      "500.0\n",
      "500.0\n",
      "500.0\n",
      "500.0\n",
      "500.0\n",
      "500.0\n",
      "500.0\n",
      "500.0\n"
     ]
    },
    {
     "name": "stderr",
     "output_type": "stream",
     "text": [
      "[2017-05-02 16:07:48,457] Starting new video recorder writing to /tmp/cartpole-experiment-7/openaigym.video.0.21662.video016000.mp4\n"
     ]
    },
    {
     "name": "stdout",
     "output_type": "stream",
     "text": [
      "500.0\n",
      "500.0\n",
      "500.0\n",
      "500.0\n",
      "500.0\n",
      "500.0\n",
      "500.0\n",
      "500.0\n",
      "500.0\n",
      "500.0\n"
     ]
    },
    {
     "name": "stderr",
     "output_type": "stream",
     "text": [
      "[2017-05-02 16:08:04,079] Starting new video recorder writing to /tmp/cartpole-experiment-7/openaigym.video.0.21662.video017000.mp4\n"
     ]
    },
    {
     "name": "stdout",
     "output_type": "stream",
     "text": [
      "500.0\n",
      "500.0\n",
      "500.0\n",
      "500.0\n",
      "500.0\n",
      "500.0\n",
      "500.0\n",
      "500.0\n",
      "500.0\n",
      "500.0\n"
     ]
    },
    {
     "name": "stderr",
     "output_type": "stream",
     "text": [
      "[2017-05-02 16:08:19,667] Starting new video recorder writing to /tmp/cartpole-experiment-7/openaigym.video.0.21662.video018000.mp4\n"
     ]
    },
    {
     "name": "stdout",
     "output_type": "stream",
     "text": [
      "500.0\n",
      "500.0\n",
      "500.0\n",
      "500.0\n",
      "500.0\n",
      "500.0\n",
      "500.0\n",
      "500.0\n",
      "500.0\n",
      "500.0\n"
     ]
    },
    {
     "name": "stderr",
     "output_type": "stream",
     "text": [
      "[2017-05-02 16:08:35,272] Starting new video recorder writing to /tmp/cartpole-experiment-7/openaigym.video.0.21662.video019000.mp4\n"
     ]
    },
    {
     "name": "stdout",
     "output_type": "stream",
     "text": [
      "500.0\n",
      "500.0\n",
      "500.0\n",
      "500.0\n",
      "500.0\n",
      "500.0\n",
      "500.0\n",
      "500.0\n",
      "500.0\n",
      "500.0\n"
     ]
    },
    {
     "name": "stderr",
     "output_type": "stream",
     "text": [
      "[2017-05-02 16:08:50,862] Starting new video recorder writing to /tmp/cartpole-experiment-7/openaigym.video.0.21662.video020000.mp4\n"
     ]
    },
    {
     "name": "stdout",
     "output_type": "stream",
     "text": [
      "500.0\n",
      "500.0\n",
      "500.0\n",
      "500.0\n",
      "500.0\n",
      "500.0\n",
      "500.0\n",
      "500.0\n",
      "500.0\n",
      "500.0\n"
     ]
    },
    {
     "name": "stderr",
     "output_type": "stream",
     "text": [
      "[2017-05-02 16:09:06,351] Starting new video recorder writing to /tmp/cartpole-experiment-7/openaigym.video.0.21662.video021000.mp4\n"
     ]
    },
    {
     "name": "stdout",
     "output_type": "stream",
     "text": [
      "500.0\n",
      "500.0\n",
      "500.0\n",
      "500.0\n",
      "500.0\n",
      "500.0\n",
      "500.0\n",
      "500.0\n",
      "500.0\n",
      "500.0\n"
     ]
    },
    {
     "name": "stderr",
     "output_type": "stream",
     "text": [
      "[2017-05-02 16:09:22,000] Starting new video recorder writing to /tmp/cartpole-experiment-7/openaigym.video.0.21662.video022000.mp4\n"
     ]
    },
    {
     "name": "stdout",
     "output_type": "stream",
     "text": [
      "500.0\n",
      "500.0\n",
      "500.0\n",
      "500.0\n",
      "500.0\n",
      "500.0\n"
     ]
    },
    {
     "name": "stderr",
     "output_type": "stream",
     "text": [
      "[2017-05-02 16:09:33,031] Finished writing results. You can upload them to the scoreboard via gym.upload('/tmp/cartpole-experiment-7')\n"
     ]
    },
    {
     "name": "stdout",
     "output_type": "stream",
     "text": [
      "500.0\n"
     ]
    },
    {
     "data": {
      "image/png": "[encoded data removed]",
      "text/plain": [
       "<matplotlib.figure.Figure at 0x11a6fa128>"
      ]
     },
     "metadata": {},
     "output_type": "display_data"
    }
   ],
   "source": [
    "import operator\n",
    "import matplotlib.pyplot as plt\n",
    "from gym import wrappers\n",
    "\n",
    "#Cross-Entropy\n",
    "np.random.seed(0)\n",
    "\n",
    "ds = [4, 1]\n",
    "dim = 0\n",
    "for i in range(len(ds)-1):\n",
    "    dim += (ds[i]+1)*(ds[i+1])\n",
    "\n",
    "print(dim)\n",
    "\n",
    "curr_mean = 0\n",
    "curr_std = np.ones(dim)\n",
    "it = 0\n",
    "        \n",
    "def policy_cem(obs):\n",
    "    out = obs.reshape(1, 4)\n",
    "    W = Ws[it]\n",
    "    \n",
    "    ind = 0\n",
    "    for i in range(len(ds)-1):\n",
    "        out = out.reshape(1, -1)\n",
    "        \n",
    "        d1 = ds[i]\n",
    "        d2 = ds[i+1]\n",
    "        w = W[ind:ind+d1*d2].reshape(d1, d2)\n",
    "        ind = ind+d1*d2\n",
    "        b = W[ind:ind+d2]\n",
    "        ind = ind + d2\n",
    "        out = out.dot(w) + b\n",
    "        if ind != len(W):\n",
    "            out = np.tanh(out)\n",
    "    \n",
    "    p = out[0]\n",
    "    if p >= 0:\n",
    "        return 1\n",
    "    else:\n",
    "        return 0\n",
    "    \n",
    "env = gym.make('CartPole-v1')\n",
    "env = wrappers.Monitor(env, '/tmp/cartpole-experiment-7',force=True)\n",
    "\n",
    "scores = []\n",
    "std = []\n",
    "mean = []\n",
    "alpha = 1\n",
    "\n",
    "for i in range(1000):\n",
    "    \n",
    "    Ws = (np.random.randn(100, dim))*curr_std + curr_mean\n",
    "    b = {}\n",
    "    for j in range(100):\n",
    "        \n",
    "        it = j\n",
    "        sc, r = play({}, 1, 500)\n",
    "        b[j] = -r\n",
    "    \n",
    "    scores.append(np.mean([-v for i, v in b.items()]))\n",
    "    print(scores[-1])\n",
    "    sorted_b = sorted(b.items(), key=operator.itemgetter(1))\n",
    "    idx = [k for k, v in sorted_b[:20]]\n",
    "    v = np.array([v for k, v in sorted_b[:20]]).reshape(-1, 1)\n",
    "    \n",
    "    curr_mean = curr_mean*(1-alpha) + alpha*np.sum(Ws[idx]*v, axis=0)/np.sum(v)\n",
    "    curr_std = curr_std*(1-alpha) + alpha*np.sqrt(np.sum(v*(Ws[idx]-curr_mean)**2, axis=0)/np.sum(v)) #+ np.max(10-i/100, 0)\n",
    "    \n",
    "    if np.sqrt(np.sum(curr_std**2)) < 1e-3:\n",
    "        break\n",
    "        \n",
    "    std.append(curr_std[0])\n",
    "    mean.append(curr_mean[0])\n",
    "\n",
    "env.close()\n",
    "\n",
    "#plt.plot(std)\n",
    "#plt.plot(mean)\n",
    "plt.plot(scores)\n",
    "plt.show()\n"
   ]
  },
  {
   "cell_type": "code",
   "execution_count": 3,
   "metadata": {
    "collapsed": false
   },
   "outputs": [
    {
     "ename": "NameError",
     "evalue": "name 'std' is not defined",
     "output_type": "error",
     "traceback": [
      "\u001b[0;31m---------------------------------------------------------------------------\u001b[0m",
      "\u001b[0;31mNameError\u001b[0m                                 Traceback (most recent call last)",
      "\u001b[0;32m<ipython-input-3-dbe7678e657b>\u001b[0m in \u001b[0;36m<module>\u001b[0;34m()\u001b[0m\n\u001b[0;32m----> 1\u001b[0;31m \u001b[0mplt\u001b[0m\u001b[0;34m.\u001b[0m\u001b[0mplot\u001b[0m\u001b[0;34m(\u001b[0m\u001b[0mstd\u001b[0m\u001b[0;34m)\u001b[0m\u001b[0;34m\u001b[0m\u001b[0m\n\u001b[0m\u001b[1;32m      2\u001b[0m \u001b[0;31m#plt.plot(mean)\u001b[0m\u001b[0;34m\u001b[0m\u001b[0;34m\u001b[0m\u001b[0m\n\u001b[1;32m      3\u001b[0m \u001b[0mplt\u001b[0m\u001b[0;34m.\u001b[0m\u001b[0mplot\u001b[0m\u001b[0;34m(\u001b[0m\u001b[0mnp\u001b[0m\u001b[0;34m.\u001b[0m\u001b[0marray\u001b[0m\u001b[0;34m(\u001b[0m\u001b[0mscores\u001b[0m\u001b[0;34m)\u001b[0m\u001b[0;34m/\u001b[0m\u001b[0;36m100\u001b[0m\u001b[0;34m)\u001b[0m\u001b[0;34m\u001b[0m\u001b[0m\n\u001b[1;32m      4\u001b[0m \u001b[0mplt\u001b[0m\u001b[0;34m.\u001b[0m\u001b[0mshow\u001b[0m\u001b[0;34m(\u001b[0m\u001b[0;34m)\u001b[0m\u001b[0;34m\u001b[0m\u001b[0m\n",
      "\u001b[0;31mNameError\u001b[0m: name 'std' is not defined"
     ]
    }
   ],
   "source": [
    "plt.plot(std)\n",
    "#plt.plot(mean)\n",
    "plt.plot(np.array(scores)/100)\n",
    "plt.show()\n"
   ]
  },
  {
   "cell_type": "code",
   "execution_count": null,
   "metadata": {
    "collapsed": true
   },
   "outputs": [],
   "source": []
  },
  {
   "cell_type": "code",
   "execution_count": 2,
   "metadata": {
    "collapsed": true,
    "scrolled": true
   },
   "outputs": [],
   "source": [
    "import gym\n",
    "from gym import wrappers\n",
    "import matplotlib.pyplot as plt\n",
    "\n",
    "def play(params, num_episodes, num_steps):\n",
    "    #env = gym.make('CartPole-v1')\n",
    "    time_steps = []\n",
    "    #env = wrappers.Monitor(env, '/tmp/cartpole-experiment-1')\n",
    "    params['time_step'] = 1\n",
    "    for i_episode in range(num_episodes):\n",
    "        observation = env.reset()\n",
    "        states, actions, rewards = [], [], []\n",
    "        r = 0\n",
    "        states.append(observation)\n",
    "        for t in range(num_steps):\n",
    "            #env.render()\n",
    "            #rewards.append(0)\n",
    "            \n",
    "            #action = policy(params, observation)\n",
    "            #action = policy_sarsa(params, observation)\n",
    "            action = policy_cem(observation)\n",
    "            \n",
    "            observation, reward, done, info = env.step(action)\n",
    "            r += reward\n",
    "            \n",
    "            states.append(observation)\n",
    "            actions.append(action)\n",
    "            rewards.append(reward)\n",
    "\n",
    "            #update_sarsa(params, actions, states, rewards)\n",
    "                \n",
    "            if done:\n",
    "                break\n",
    "        \n",
    "        #rewards[-1] = -1\n",
    "        \n",
    "        #update_sarsa(params, actions, states, rewards)\n",
    "        params['time_step'] += 1\n",
    "        \n",
    "        #update_gradients(params, actions, states, rewards)\n",
    "        states.append(observation)\n",
    "        #print(\"Episode \", i_episode, \" finished in \", t, \" steps, reward \", r)\n",
    "        \n",
    "        time_steps.append(t)\n",
    "\n",
    "    #env.close()\n",
    "    #w, b = best_params\n",
    "    return time_steps, r\n",
    "\n",
    "learning_rates = [1e-2, 1e-1, 1, 10, 100]\n",
    "handles = []\n",
    "discounts = [0.1, 0.5, 0.8, 0.9, 0.95]\n",
    "\n",
    "lr = 1\n",
    "d = 0.9\n",
    "b = 0\n",
    "\n",
    "#params = {'W':np.zeros(4), 'eps':0.1, 'learning_rate':lr, 'discount':d, 'b': b}\n",
    "\n",
    "params = {'W1':np.ones(4), 'W2':np.ones(4), 'eps':0.1, 'learning_rate':lr, 'discount':d, 'b': b}\n",
    "n = 10000\n",
    "t = 10000\n",
    "#tx = play(params, n, t)\n",
    "#print(lr, b, np.mean(tx), np.var(tx), np.max(tx))\n",
    "#l, = plt.plot(tx, label=('lr = %f, b = %d, d = %f'%(lr, b, d)))\n",
    "#handles.append(l)\n",
    "\n",
    "#plt.legend(handles=handles)\n",
    "#plt.show()"
   ]
  },
  {
   "cell_type": "code",
   "execution_count": 4,
   "metadata": {
    "collapsed": false
   },
   "outputs": [
    {
     "name": "stderr",
     "output_type": "stream",
     "text": [
      "[2017-05-17 14:20:40,252] Making new env: Humanoid-v1\n"
     ]
    },
    {
     "name": "stdout",
     "output_type": "stream",
     "text": [
      "[  1.39043957e+00   9.99959229e-01  -3.95274909e-03  -4.33445014e-03\n",
      "  -6.86498760e-03  -3.54313860e-03  -9.91561816e-03  -2.95241860e-03\n",
      "   6.51695687e-03  -4.03616822e-03   5.12585846e-03   1.96430974e-04\n",
      "   2.89952291e-03  -9.52448181e-03   2.52792220e-03  -4.06812492e-04\n",
      "   9.18930051e-03   6.53860604e-03  -7.85570085e-03  -5.60707693e-03\n",
      "  -4.41642854e-03   4.88313147e-03   3.86982292e-04   5.00601601e-03\n",
      "  -4.14957584e-03  -9.42049287e-03   7.77597109e-03  -8.97609188e-03\n",
      "  -2.44817499e-03   6.99319700e-03  -4.00300638e-03   3.20959926e-03\n",
      "  -2.91973586e-03  -9.00002535e-03   4.00870781e-03   7.42317732e-03\n",
      "  -5.92563255e-03  -3.07320727e-03  -6.46894136e-03   9.10377224e-04\n",
      "   9.80271114e-03   9.12820734e-03   9.33516834e-03  -2.06256528e-03\n",
      "  -9.80074075e-03   0.00000000e+00   0.00000000e+00   0.00000000e+00\n",
      "   0.00000000e+00   0.00000000e+00   0.00000000e+00   0.00000000e+00\n",
      "   0.00000000e+00   0.00000000e+00   0.00000000e+00   2.22946343e+00\n",
      "   2.22321380e+00   3.87708621e-02   8.18173972e-04   1.03674123e-01\n",
      "  -2.02928826e-02  -2.12233259e-01   3.89465521e-02   4.15068749e+00\n",
      "   8.32207894e+00   8.74391448e-02   8.55763605e-02   9.15069853e-03\n",
      "   8.10933459e-05   1.20435716e-02  -9.32492891e-04  -6.07132710e-02\n",
      "   4.84509109e-03   4.03811522e-01   2.03575204e+00   4.39816543e-02\n",
      "   4.24751444e-02   5.00974436e-02   4.77172103e-05   8.87354310e-03\n",
      "  -5.69786901e-05  -2.69823850e-01   6.29397177e-03   1.92420718e-01\n",
      "   5.85278711e+00   2.45036301e-01   2.06178342e-01   5.18620719e-02\n",
      "  -9.98433296e-03  -1.70514627e-02  -7.44236165e-02  -1.04252618e-01\n",
      "  -4.32076223e-01  -7.94135434e-01   4.52555626e+00   8.71538962e-01\n",
      "   8.49722865e-01   2.61340855e-02  -3.56101754e-03  -2.10302172e-02\n",
      "  -1.35697761e-01  -3.86360528e-02  -2.42802702e-01  -1.46999975e+00\n",
      "   2.63249442e+00   1.03560378e+00   1.02045920e+00   1.94988795e-02\n",
      "  -1.70286774e-03  -1.38633200e-02  -1.24834043e-01  -1.82807397e-02\n",
      "  -1.64611266e-01  -1.34012677e+00   1.76714587e+00   2.46063808e-01\n",
      "   2.08641271e-01   4.90001557e-02   8.16603412e-03  -1.41678463e-02\n",
      "   7.21612862e-02  -8.73065102e-02   4.20286840e-01  -8.03348182e-01\n",
      "   4.52555626e+00   8.72623031e-01   8.55002073e-01   2.13620198e-02\n",
      "   2.23344968e-03  -1.45263539e-02   1.21294459e-01  -2.69796262e-02\n",
      "   2.17113690e-01  -1.47498248e+00   2.63249442e+00   1.03649270e+00\n",
      "   1.02533413e+00   1.52435491e-02   7.81377620e-04  -7.45722226e-03\n",
      "   1.07013543e-01  -9.80925121e-03   1.40765916e-01  -1.34342563e+00\n",
      "   1.76714587e+00   4.15284524e-01   3.23870263e-01   1.10804898e-01\n",
      "   2.57282128e-02  -3.42462543e-02   1.68279714e-01   8.73044413e-02\n",
      "  -3.91561205e-01   7.02262246e-01   1.59405984e+00   3.21061511e-01\n",
      "   3.38589340e-01   1.60999704e-01   7.15938613e-02  -1.48252281e-01\n",
      "   1.24491158e-01   3.18842807e-01  -2.84297472e-01   5.41756928e-01\n",
      "   1.19834313e+00   4.15158466e-01   3.20262256e-01   1.17153029e-01\n",
      "  -2.89017803e-02  -3.83743059e-02  -1.71534367e-01   9.78480074e-02\n",
      "   4.02067047e-01   6.96394895e-01   1.59405984e+00   3.18980787e-01\n",
      "   3.38444179e-01   1.63957275e-01  -7.31176540e-02  -1.49681894e-01\n",
      "  -1.23920730e-01   3.24039922e-01   2.85029760e-01   5.38684442e-01\n",
      "   1.19834313e+00   0.00000000e+00   0.00000000e+00   0.00000000e+00\n",
      "   0.00000000e+00   0.00000000e+00   0.00000000e+00  -9.23490244e-03\n",
      "   7.83251846e-03  -9.11865501e-03  -3.24302113e-03   5.65498142e-04\n",
      "  -4.28750306e-03  -9.08299695e-03   1.48048224e-02  -1.16211072e-02\n",
      "  -5.08640400e-03   5.27205105e-04  -4.50609291e-03  -1.30839952e-02\n",
      "   1.48732439e-02  -1.17278376e-02  -5.09572721e-03  -9.47224506e-06\n",
      "  -4.50064073e-03  -9.98959169e-03   5.80676102e-03  -1.45237658e-02\n",
      "  -4.86683999e-03  -1.01392696e-04  -3.94924439e-03  -1.00747585e-02\n",
      "   1.79899220e-03  -1.45072111e-02  -6.42516100e-03  -6.80059680e-05\n",
      "  -3.88345595e-03  -1.00747585e-02   1.79899220e-03  -1.45072111e-02\n",
      "  -6.42516100e-03  -6.80059680e-05  -3.88345595e-03  -2.06844232e-02\n",
      "   1.20109148e-02  -5.96005677e-03  -4.53931794e-03   1.83133176e-04\n",
      "  -3.67185598e-03  -2.06330554e-02   1.84790269e-02  -6.04999690e-03\n",
      "  -2.02204460e-03   1.61800223e-04  -3.76833319e-03  -2.06330554e-02\n",
      "   1.84790269e-02  -6.04999690e-03  -2.02204460e-03   1.61800223e-04\n",
      "  -3.76833319e-03  -8.59314204e-03   1.26858954e-03  -1.80942023e-03\n",
      "  -1.03874501e-03   1.08591598e-03  -4.01368936e-03  -8.68940433e-03\n",
      "  -5.18300975e-03   4.64749617e-03  -1.07066949e-03   5.10124668e-05\n",
      "  -5.04821661e-03  -1.71339371e-03   2.47150253e-03  -6.65168151e-03\n",
      "  -3.97662496e-05   4.50624409e-03  -5.49015389e-03  -1.64527495e-03\n",
      "   9.48692593e-03   1.91834667e-04  -1.25515304e-05   3.40533869e-03\n",
      "  -4.36186494e-03   0.00000000e+00   0.00000000e+00   0.00000000e+00\n",
      "   0.00000000e+00   0.00000000e+00   0.00000000e+00   0.00000000e+00\n",
      "   0.00000000e+00   0.00000000e+00   0.00000000e+00   0.00000000e+00\n",
      "   0.00000000e+00   0.00000000e+00   0.00000000e+00   0.00000000e+00\n",
      "   0.00000000e+00   0.00000000e+00   0.00000000e+00   0.00000000e+00\n",
      "   0.00000000e+00   0.00000000e+00   0.00000000e+00   0.00000000e+00\n",
      "   0.00000000e+00   0.00000000e+00   0.00000000e+00   0.00000000e+00\n",
      "   0.00000000e+00   0.00000000e+00   0.00000000e+00   0.00000000e+00\n",
      "   0.00000000e+00   0.00000000e+00   0.00000000e+00   0.00000000e+00\n",
      "   0.00000000e+00   0.00000000e+00   0.00000000e+00   0.00000000e+00\n",
      "   0.00000000e+00   0.00000000e+00   0.00000000e+00   0.00000000e+00\n",
      "   0.00000000e+00   0.00000000e+00   0.00000000e+00   0.00000000e+00\n",
      "   0.00000000e+00   0.00000000e+00   0.00000000e+00   0.00000000e+00\n",
      "   0.00000000e+00   0.00000000e+00   0.00000000e+00   0.00000000e+00\n",
      "   0.00000000e+00   0.00000000e+00   0.00000000e+00   0.00000000e+00\n",
      "   0.00000000e+00   0.00000000e+00   0.00000000e+00   0.00000000e+00\n",
      "   0.00000000e+00   0.00000000e+00   0.00000000e+00   0.00000000e+00\n",
      "   0.00000000e+00   0.00000000e+00   0.00000000e+00   0.00000000e+00\n",
      "   0.00000000e+00   0.00000000e+00   0.00000000e+00   0.00000000e+00\n",
      "   0.00000000e+00   0.00000000e+00   0.00000000e+00   0.00000000e+00\n",
      "   0.00000000e+00   0.00000000e+00   0.00000000e+00   0.00000000e+00\n",
      "   0.00000000e+00   0.00000000e+00   0.00000000e+00   0.00000000e+00\n",
      "   0.00000000e+00   0.00000000e+00   0.00000000e+00   0.00000000e+00\n",
      "   0.00000000e+00   0.00000000e+00   0.00000000e+00   0.00000000e+00\n",
      "   0.00000000e+00   0.00000000e+00   0.00000000e+00   0.00000000e+00\n",
      "   0.00000000e+00   0.00000000e+00   0.00000000e+00   0.00000000e+00\n",
      "   0.00000000e+00   0.00000000e+00   0.00000000e+00   0.00000000e+00]\n"
     ]
    }
   ],
   "source": [
    "import gym\n",
    "env = gym.make('Humanoid-v1')\n",
    "o = env.reset()\n",
    "print(o)\n",
    "env.render()"
   ]
  },
  {
   "cell_type": "code",
   "execution_count": null,
   "metadata": {
    "collapsed": true
   },
   "outputs": [],
   "source": [
    "import matplotlib.pyplot as plt\n",
    "\n",
    "num_episodes = 500\n",
    "num_steps = 500\n",
    "learning_rates = [1e-4, 1e-3, 1e-2, 1e-1, 1]\n",
    "handles = []\n",
    "for lr in learning_rates:\n",
    "    params = {'W':np.random.rand(4)*2-1, 'learning_rate':lr, 'discount':0.99}\n",
    "    params['learning_rate'] = lr\n",
    "    t = play(params, num_episodes, num_steps)\n",
    "    score = np.mean(np.array(t))\n",
    "    l, = plt.plot(t, label=('lr = %f'%lr))\n",
    "    handles.append(l)\n",
    "\n",
    "plt.legend(handles=handles)\n",
    "plt.show()\n",
    "print (score, params)"
   ]
  },
  {
   "cell_type": "code",
   "execution_count": 9,
   "metadata": {
    "collapsed": false,
    "scrolled": true
   },
   "outputs": [
    {
     "name": "stderr",
     "output_type": "stream",
     "text": [
      "[2017-04-17 20:32:03,722] Making new env: CartPole-v1\n",
      "[2017-04-17 20:32:03,729] DEPRECATION WARNING: env.spec.timestep_limit has been deprecated. Replace your call to `env.spec.timestep_limit` with `env.spec.tags.get('wrapper_config.TimeLimit.max_episode_steps')`. This change was made 12/28/2016 and is included in version 0.7.0\n",
      "[2017-04-17 20:32:03,730] Clearing 18 monitor files from previous run (because force=True was provided)\n",
      "[2017-04-17 20:32:03,734] Starting new video recorder writing to /tmp/cartpole-experiment-6/openaigym.video.1.44148.video000000.mp4\n",
      "[2017-04-17 20:32:04,406] Starting new video recorder writing to /tmp/cartpole-experiment-6/openaigym.video.1.44148.video000001.mp4\n"
     ]
    },
    {
     "name": "stdout",
     "output_type": "stream",
     "text": [
      "Episode finished after 27 timesteps\n",
      "Episode finished after 89 timesteps\n",
      "Episode finished after 115 timesteps\n",
      "Episode finished after 77 timesteps\n",
      "Episode finished after 54 timesteps\n"
     ]
    },
    {
     "name": "stderr",
     "output_type": "stream",
     "text": [
      "[2017-04-17 20:32:05,982] Starting new video recorder writing to /tmp/cartpole-experiment-6/openaigym.video.1.44148.video000008.mp4\n"
     ]
    },
    {
     "name": "stdout",
     "output_type": "stream",
     "text": [
      "Episode finished after 214 timesteps\n",
      "Episode finished after 71 timesteps\n",
      "Episode finished after 119 timesteps\n",
      "Episode finished after 144 timesteps\n",
      "Episode finished after 54 timesteps\n",
      "Episode finished after 129 timesteps\n",
      "Episode finished after 127 timesteps\n",
      "Episode finished after 94 timesteps\n",
      "Episode finished after 58 timesteps\n",
      "Episode finished after 156 timesteps\n",
      "Episode finished after 58 timesteps\n",
      "Episode finished after 107 timesteps\n",
      "Episode finished after 105 timesteps\n",
      "Episode finished after 114 timesteps\n",
      "Episode finished after 139 timesteps\n",
      "Episode finished after 293 timesteps\n",
      "Episode finished after 477 timesteps\n",
      "Episode finished after 314 timesteps\n",
      "Episode finished after 305 timesteps\n",
      "Episode finished after 247 timesteps\n",
      "Episode finished after 75 timesteps\n"
     ]
    },
    {
     "name": "stderr",
     "output_type": "stream",
     "text": [
      "[2017-04-17 20:32:09,679] Starting new video recorder writing to /tmp/cartpole-experiment-6/openaigym.video.1.44148.video000027.mp4\n"
     ]
    },
    {
     "name": "stdout",
     "output_type": "stream",
     "text": [
      "Episode finished after 96 timesteps\n",
      "Episode finished after 77 timesteps\n",
      "Episode finished after 183 timesteps\n",
      "Episode finished after 122 timesteps\n",
      "Episode finished after 264 timesteps\n",
      "Episode finished after 181 timesteps\n",
      "Episode finished after 174 timesteps\n",
      "Episode finished after 289 timesteps\n",
      "Episode finished after 73 timesteps\n",
      "Episode finished after 163 timesteps\n",
      "Episode finished after 343 timesteps\n",
      "Episode finished after 367 timesteps\n",
      "Episode finished after 94 timesteps\n",
      "Episode finished after 202 timesteps\n",
      "Episode finished after 83 timesteps\n",
      "Episode finished after 94 timesteps\n",
      "Episode finished after 87 timesteps\n",
      "Episode finished after 106 timesteps\n",
      "Episode finished after 71 timesteps\n",
      "Episode finished after 60 timesteps\n",
      "Episode finished after 233 timesteps\n",
      "Episode finished after 83 timesteps\n",
      "Episode finished after 91 timesteps\n",
      "Episode finished after 396 timesteps\n",
      "Episode finished after 254 timesteps\n",
      "Episode finished after 149 timesteps\n",
      "Episode finished after 182 timesteps\n",
      "Episode finished after 402 timesteps\n",
      "Episode finished after 500 timesteps\n",
      "Episode finished after 266 timesteps\n",
      "Episode finished after 241 timesteps\n",
      "Episode finished after 243 timesteps\n",
      "Episode finished after 479 timesteps\n",
      "Episode finished after 304 timesteps\n",
      "Episode finished after 263 timesteps\n",
      "Episode finished after 239 timesteps\n",
      "Episode finished after 500 timesteps\n"
     ]
    },
    {
     "name": "stderr",
     "output_type": "stream",
     "text": [
      "[2017-04-17 20:32:16,073] Starting new video recorder writing to /tmp/cartpole-experiment-6/openaigym.video.1.44148.video000064.mp4\n"
     ]
    },
    {
     "name": "stdout",
     "output_type": "stream",
     "text": [
      "Episode finished after 390 timesteps\n",
      "Episode finished after 500 timesteps\n",
      "Episode finished after 500 timesteps\n",
      "Episode finished after 500 timesteps\n",
      "Episode finished after 465 timesteps\n",
      "Episode finished after 500 timesteps\n",
      "Episode finished after 500 timesteps\n",
      "Episode finished after 500 timesteps\n",
      "Episode finished after 411 timesteps\n",
      "Episode finished after 337 timesteps\n",
      "Episode finished after 140 timesteps\n",
      "Episode finished after 293 timesteps\n",
      "Episode finished after 336 timesteps\n",
      "Episode finished after 124 timesteps\n",
      "Episode finished after 289 timesteps\n",
      "Episode finished after 207 timesteps\n",
      "Episode finished after 500 timesteps\n",
      "Episode finished after 405 timesteps\n",
      "Episode finished after 198 timesteps\n",
      "Episode finished after 274 timesteps\n",
      "Episode finished after 215 timesteps\n",
      "Episode finished after 500 timesteps\n",
      "Episode finished after 232 timesteps\n",
      "Episode finished after 422 timesteps\n",
      "Episode finished after 170 timesteps\n",
      "Episode finished after 500 timesteps\n",
      "Episode finished after 468 timesteps\n",
      "Episode finished after 238 timesteps\n",
      "Episode finished after 219 timesteps\n",
      "Episode finished after 466 timesteps\n",
      "Episode finished after 500 timesteps\n",
      "Episode finished after 500 timesteps\n",
      "Episode finished after 500 timesteps\n",
      "Episode finished after 500 timesteps\n",
      "Episode finished after 500 timesteps\n",
      "Episode finished after 500 timesteps\n",
      "Episode finished after 500 timesteps\n",
      "Episode finished after 500 timesteps\n",
      "Episode finished after 500 timesteps\n",
      "Episode finished after 500 timesteps\n",
      "Episode finished after 500 timesteps\n",
      "Episode finished after 500 timesteps\n",
      "Episode finished after 500 timesteps\n",
      "Episode finished after 500 timesteps\n",
      "Episode finished after 500 timesteps\n",
      "Episode finished after 500 timesteps\n",
      "Episode finished after 500 timesteps\n",
      "Episode finished after 461 timesteps\n",
      "Episode finished after 434 timesteps\n",
      "Episode finished after 438 timesteps\n",
      "Episode finished after 500 timesteps\n",
      "Episode finished after 500 timesteps\n",
      "Episode finished after 402 timesteps\n",
      "Episode finished after 424 timesteps\n",
      "Episode finished after 363 timesteps\n",
      "Episode finished after 361 timesteps\n",
      "Episode finished after 381 timesteps\n",
      "Episode finished after 486 timesteps\n",
      "Episode finished after 336 timesteps\n",
      "Episode finished after 500 timesteps\n",
      "Episode finished after 500 timesteps\n"
     ]
    },
    {
     "name": "stderr",
     "output_type": "stream",
     "text": [
      "[2017-04-17 20:32:36,692] Starting new video recorder writing to /tmp/cartpole-experiment-6/openaigym.video.1.44148.video000125.mp4\n"
     ]
    },
    {
     "name": "stdout",
     "output_type": "stream",
     "text": [
      "Episode finished after 500 timesteps\n",
      "Episode finished after 500 timesteps\n",
      "Episode finished after 500 timesteps\n",
      "Episode finished after 500 timesteps\n",
      "Episode finished after 102 timesteps\n",
      "Episode finished after 261 timesteps\n",
      "Episode finished after 500 timesteps\n",
      "Episode finished after 500 timesteps\n",
      "Episode finished after 500 timesteps\n",
      "Episode finished after 500 timesteps\n",
      "Episode finished after 500 timesteps\n",
      "Episode finished after 500 timesteps\n",
      "Episode finished after 500 timesteps\n",
      "Episode finished after 500 timesteps\n",
      "Episode finished after 500 timesteps\n",
      "Episode finished after 500 timesteps\n",
      "Episode finished after 500 timesteps\n",
      "Episode finished after 500 timesteps\n",
      "Episode finished after 500 timesteps\n",
      "Episode finished after 500 timesteps\n",
      "Episode finished after 500 timesteps\n",
      "Episode finished after 500 timesteps\n",
      "Episode finished after 500 timesteps\n",
      "Episode finished after 500 timesteps\n",
      "Episode finished after 500 timesteps\n",
      "Episode finished after 500 timesteps\n",
      "Episode finished after 337 timesteps\n",
      "Episode finished after 500 timesteps\n",
      "Episode finished after 500 timesteps\n",
      "Episode finished after 500 timesteps\n",
      "Episode finished after 500 timesteps\n",
      "Episode finished after 500 timesteps\n",
      "Episode finished after 500 timesteps\n",
      "Episode finished after 500 timesteps\n",
      "Episode finished after 500 timesteps\n",
      "Episode finished after 500 timesteps\n",
      "Episode finished after 500 timesteps\n",
      "Episode finished after 500 timesteps\n",
      "Episode finished after 500 timesteps\n",
      "Episode finished after 500 timesteps\n",
      "Episode finished after 500 timesteps\n",
      "Episode finished after 500 timesteps\n",
      "Episode finished after 500 timesteps\n",
      "Episode finished after 500 timesteps\n",
      "Episode finished after 500 timesteps\n",
      "Episode finished after 500 timesteps\n",
      "Episode finished after 500 timesteps\n",
      "Episode finished after 500 timesteps\n",
      "Episode finished after 500 timesteps\n",
      "Episode finished after 314 timesteps\n",
      "Episode finished after 500 timesteps\n",
      "Episode finished after 500 timesteps\n",
      "Episode finished after 500 timesteps\n",
      "Episode finished after 500 timesteps\n",
      "Episode finished after 500 timesteps\n",
      "Episode finished after 500 timesteps\n",
      "Episode finished after 500 timesteps\n",
      "Episode finished after 500 timesteps\n",
      "Episode finished after 500 timesteps\n",
      "Episode finished after 500 timesteps\n",
      "Episode finished after 500 timesteps\n",
      "Episode finished after 500 timesteps\n",
      "Episode finished after 500 timesteps\n",
      "Episode finished after 500 timesteps\n",
      "Episode finished after 500 timesteps\n",
      "Episode finished after 500 timesteps\n",
      "Episode finished after 500 timesteps\n",
      "Episode finished after 500 timesteps\n",
      "Episode finished after 500 timesteps\n",
      "Episode finished after 500 timesteps\n",
      "Episode finished after 500 timesteps\n",
      "Episode finished after 463 timesteps\n",
      "Episode finished after 500 timesteps\n",
      "Episode finished after 500 timesteps\n",
      "Episode finished after 500 timesteps\n",
      "Episode finished after 330 timesteps\n",
      "Episode finished after 500 timesteps\n",
      "Episode finished after 500 timesteps\n",
      "Episode finished after 500 timesteps\n",
      "Episode finished after 500 timesteps\n",
      "Episode finished after 500 timesteps\n",
      "Episode finished after 500 timesteps\n",
      "Episode finished after 500 timesteps\n",
      "Episode finished after 500 timesteps\n",
      "Episode finished after 500 timesteps\n",
      "Episode finished after 214 timesteps\n",
      "Episode finished after 400 timesteps\n",
      "Episode finished after 500 timesteps\n",
      "Episode finished after 500 timesteps\n",
      "Episode finished after 500 timesteps\n"
     ]
    },
    {
     "name": "stderr",
     "output_type": "stream",
     "text": [
      "[2017-04-17 20:33:12,466] Starting new video recorder writing to /tmp/cartpole-experiment-6/openaigym.video.1.44148.video000216.mp4\n"
     ]
    },
    {
     "name": "stdout",
     "output_type": "stream",
     "text": [
      "Episode finished after 500 timesteps\n",
      "Episode finished after 206 timesteps\n",
      "Episode finished after 500 timesteps\n",
      "Episode finished after 500 timesteps\n",
      "Episode finished after 327 timesteps\n",
      "Episode finished after 500 timesteps\n",
      "Episode finished after 500 timesteps\n",
      "Episode finished after 500 timesteps\n",
      "Episode finished after 500 timesteps\n",
      "Episode finished after 500 timesteps\n",
      "Episode finished after 392 timesteps\n",
      "Episode finished after 500 timesteps\n",
      "Episode finished after 500 timesteps\n",
      "Episode finished after 500 timesteps\n",
      "Episode finished after 500 timesteps\n",
      "Episode finished after 500 timesteps\n",
      "Episode finished after 500 timesteps\n",
      "Episode finished after 500 timesteps\n",
      "Episode finished after 500 timesteps\n",
      "Episode finished after 500 timesteps\n",
      "Episode finished after 265 timesteps\n",
      "Episode finished after 500 timesteps\n",
      "Episode finished after 366 timesteps\n",
      "Episode finished after 250 timesteps\n",
      "Episode finished after 345 timesteps\n",
      "Episode finished after 368 timesteps\n",
      "Episode finished after 500 timesteps\n",
      "Episode finished after 500 timesteps\n",
      "Episode finished after 500 timesteps\n",
      "Episode finished after 500 timesteps\n",
      "Episode finished after 500 timesteps\n",
      "Episode finished after 493 timesteps\n",
      "Episode finished after 500 timesteps\n",
      "Episode finished after 500 timesteps\n",
      "Episode finished after 500 timesteps\n",
      "Episode finished after 500 timesteps\n",
      "Episode finished after 500 timesteps\n",
      "Episode finished after 500 timesteps\n",
      "Episode finished after 500 timesteps\n",
      "Episode finished after 500 timesteps\n",
      "Episode finished after 500 timesteps\n",
      "Episode finished after 500 timesteps\n",
      "Episode finished after 500 timesteps\n",
      "Episode finished after 396 timesteps\n",
      "Episode finished after 500 timesteps\n",
      "Episode finished after 500 timesteps\n",
      "Episode finished after 500 timesteps\n",
      "Episode finished after 500 timesteps\n",
      "Episode finished after 500 timesteps\n",
      "Episode finished after 500 timesteps\n",
      "Episode finished after 500 timesteps\n",
      "Episode finished after 500 timesteps\n",
      "Episode finished after 500 timesteps\n",
      "Episode finished after 500 timesteps\n",
      "Episode finished after 500 timesteps\n",
      "Episode finished after 500 timesteps\n",
      "Episode finished after 500 timesteps\n",
      "Episode finished after 500 timesteps\n",
      "Episode finished after 500 timesteps\n",
      "Episode finished after 500 timesteps\n",
      "Episode finished after 500 timesteps\n",
      "Episode finished after 500 timesteps\n",
      "Episode finished after 500 timesteps\n",
      "Episode finished after 500 timesteps\n",
      "Episode finished after 500 timesteps\n",
      "Episode finished after 500 timesteps\n",
      "Episode finished after 500 timesteps\n",
      "Episode finished after 500 timesteps\n",
      "Episode finished after 500 timesteps\n",
      "Episode finished after 500 timesteps\n",
      "Episode finished after 500 timesteps\n",
      "Episode finished after 500 timesteps\n",
      "Episode finished after 500 timesteps\n",
      "Episode finished after 500 timesteps\n",
      "Episode finished after 500 timesteps\n",
      "Episode finished after 500 timesteps\n",
      "Episode finished after 500 timesteps\n",
      "Episode finished after 500 timesteps\n",
      "Episode finished after 500 timesteps\n",
      "Episode finished after 384 timesteps\n",
      "Episode finished after 500 timesteps\n",
      "Episode finished after 500 timesteps\n",
      "Episode finished after 500 timesteps\n",
      "Episode finished after 500 timesteps\n",
      "Episode finished after 500 timesteps\n",
      "Episode finished after 500 timesteps\n",
      "Episode finished after 500 timesteps\n",
      "Episode finished after 500 timesteps\n",
      "Episode finished after 500 timesteps\n",
      "Episode finished after 500 timesteps\n",
      "Episode finished after 500 timesteps\n",
      "Episode finished after 500 timesteps\n",
      "Episode finished after 500 timesteps\n",
      "Episode finished after 500 timesteps\n",
      "Episode finished after 500 timesteps\n",
      "Episode finished after 500 timesteps\n",
      "Episode finished after 500 timesteps\n",
      "Episode finished after 500 timesteps\n",
      "Episode finished after 500 timesteps\n",
      "Episode finished after 500 timesteps\n",
      "Episode finished after 500 timesteps\n",
      "Episode finished after 500 timesteps\n",
      "Episode finished after 500 timesteps\n",
      "Episode finished after 500 timesteps\n",
      "Episode finished after 500 timesteps\n",
      "Episode finished after 500 timesteps\n",
      "Episode finished after 500 timesteps\n",
      "Episode finished after 500 timesteps\n",
      "Episode finished after 500 timesteps\n",
      "Episode finished after 500 timesteps\n",
      "Episode finished after 500 timesteps\n",
      "Episode finished after 500 timesteps\n",
      "Episode finished after 500 timesteps\n",
      "Episode finished after 500 timesteps\n",
      "Episode finished after 500 timesteps\n",
      "Episode finished after 500 timesteps\n",
      "Episode finished after 500 timesteps\n",
      "Episode finished after 500 timesteps\n",
      "Episode finished after 500 timesteps\n",
      "Episode finished after 500 timesteps\n",
      "Episode finished after 500 timesteps\n",
      "Episode finished after 500 timesteps\n",
      "Episode finished after 500 timesteps\n",
      "Episode finished after 500 timesteps\n",
      "Episode finished after 500 timesteps\n",
      "Episode finished after 500 timesteps\n",
      "Episode finished after 500 timesteps\n",
      "Episode finished after 500 timesteps\n"
     ]
    },
    {
     "name": "stderr",
     "output_type": "stream",
     "text": [
      "[2017-04-17 20:34:04,419] Starting new video recorder writing to /tmp/cartpole-experiment-6/openaigym.video.1.44148.video000343.mp4\n"
     ]
    },
    {
     "name": "stdout",
     "output_type": "stream",
     "text": [
      "Episode finished after 500 timesteps\n",
      "Episode finished after 500 timesteps\n",
      "Episode finished after 500 timesteps\n",
      "Episode finished after 500 timesteps\n",
      "Episode finished after 500 timesteps\n",
      "Episode finished after 500 timesteps\n",
      "Episode finished after 441 timesteps\n",
      "Episode finished after 218 timesteps\n",
      "Episode finished after 500 timesteps\n",
      "Episode finished after 342 timesteps\n",
      "Episode finished after 500 timesteps\n",
      "Episode finished after 225 timesteps\n",
      "Episode finished after 431 timesteps\n",
      "Episode finished after 367 timesteps\n",
      "Episode finished after 279 timesteps\n",
      "Episode finished after 237 timesteps\n",
      "Episode finished after 282 timesteps\n",
      "Episode finished after 226 timesteps\n",
      "Episode finished after 153 timesteps\n",
      "Episode finished after 297 timesteps\n",
      "Episode finished after 500 timesteps\n",
      "Episode finished after 500 timesteps\n",
      "Episode finished after 500 timesteps\n",
      "Episode finished after 500 timesteps\n",
      "Episode finished after 429 timesteps\n",
      "Episode finished after 500 timesteps\n",
      "Episode finished after 500 timesteps\n",
      "Episode finished after 324 timesteps\n",
      "Episode finished after 388 timesteps\n",
      "Episode finished after 500 timesteps\n",
      "Episode finished after 500 timesteps\n",
      "Episode finished after 500 timesteps\n",
      "Episode finished after 500 timesteps\n",
      "Episode finished after 500 timesteps\n",
      "Episode finished after 500 timesteps\n",
      "Episode finished after 500 timesteps\n",
      "Episode finished after 500 timesteps\n",
      "Episode finished after 341 timesteps\n",
      "Episode finished after 265 timesteps\n",
      "Episode finished after 336 timesteps\n",
      "Episode finished after 500 timesteps\n",
      "Episode finished after 500 timesteps\n",
      "Episode finished after 500 timesteps\n",
      "Episode finished after 500 timesteps\n",
      "Episode finished after 500 timesteps\n",
      "Episode finished after 500 timesteps\n",
      "Episode finished after 500 timesteps\n",
      "Episode finished after 500 timesteps\n",
      "Episode finished after 500 timesteps\n",
      "Episode finished after 500 timesteps\n",
      "Episode finished after 500 timesteps\n",
      "Episode finished after 500 timesteps\n",
      "Episode finished after 500 timesteps\n",
      "Episode finished after 500 timesteps\n",
      "Episode finished after 500 timesteps\n",
      "Episode finished after 500 timesteps\n",
      "Episode finished after 500 timesteps\n",
      "Episode finished after 500 timesteps\n",
      "Episode finished after 500 timesteps\n",
      "Episode finished after 500 timesteps\n",
      "Episode finished after 500 timesteps\n",
      "Episode finished after 500 timesteps\n",
      "Episode finished after 500 timesteps\n",
      "Episode finished after 500 timesteps\n",
      "Episode finished after 500 timesteps\n",
      "Episode finished after 500 timesteps\n",
      "Episode finished after 500 timesteps\n",
      "Episode finished after 500 timesteps\n",
      "Episode finished after 500 timesteps\n",
      "Episode finished after 500 timesteps\n",
      "Episode finished after 500 timesteps\n",
      "Episode finished after 500 timesteps\n",
      "Episode finished after 500 timesteps\n",
      "Episode finished after 500 timesteps\n",
      "Episode finished after 500 timesteps\n",
      "Episode finished after 500 timesteps\n",
      "Episode finished after 500 timesteps\n",
      "Episode finished after 500 timesteps\n",
      "Episode finished after 500 timesteps\n",
      "Episode finished after 500 timesteps\n",
      "Episode finished after 500 timesteps\n",
      "Episode finished after 500 timesteps\n",
      "Episode finished after 500 timesteps\n",
      "Episode finished after 500 timesteps\n",
      "Episode finished after 500 timesteps\n",
      "Episode finished after 500 timesteps\n",
      "Episode finished after 500 timesteps\n",
      "Episode finished after 500 timesteps\n",
      "Episode finished after 500 timesteps\n",
      "Episode finished after 500 timesteps\n",
      "Episode finished after 500 timesteps\n",
      "Episode finished after 500 timesteps\n",
      "Episode finished after 500 timesteps\n",
      "Episode finished after 500 timesteps\n",
      "Episode finished after 500 timesteps\n",
      "Episode finished after 500 timesteps\n",
      "Episode finished after 500 timesteps\n",
      "Episode finished after 500 timesteps\n",
      "Episode finished after 500 timesteps\n",
      "Episode finished after 500 timesteps\n",
      "Episode finished after 500 timesteps\n",
      "Episode finished after 500 timesteps\n",
      "Episode finished after 500 timesteps\n",
      "Episode finished after 500 timesteps\n",
      "Episode finished after 500 timesteps\n",
      "Episode finished after 500 timesteps\n",
      "Episode finished after 500 timesteps\n",
      "Episode finished after 500 timesteps\n",
      "Episode finished after 500 timesteps\n",
      "Episode finished after 500 timesteps\n",
      "Episode finished after 500 timesteps\n",
      "Episode finished after 500 timesteps\n",
      "Episode finished after 500 timesteps\n",
      "Episode finished after 500 timesteps\n",
      "Episode finished after 500 timesteps\n",
      "Episode finished after 500 timesteps\n",
      "Episode finished after 500 timesteps\n",
      "Episode finished after 500 timesteps\n",
      "Episode finished after 500 timesteps\n",
      "Episode finished after 500 timesteps\n",
      "Episode finished after 500 timesteps\n",
      "Episode finished after 500 timesteps\n",
      "Episode finished after 500 timesteps\n",
      "Episode finished after 500 timesteps\n",
      "Episode finished after 500 timesteps\n",
      "Episode finished after 500 timesteps\n",
      "Episode finished after 500 timesteps\n",
      "Episode finished after 500 timesteps\n",
      "Episode finished after 500 timesteps\n",
      "Episode finished after 500 timesteps\n",
      "Episode finished after 500 timesteps\n",
      "Episode finished after 500 timesteps\n",
      "Episode finished after 500 timesteps\n",
      "Episode finished after 500 timesteps\n",
      "Episode finished after 500 timesteps\n",
      "Episode finished after 500 timesteps\n",
      "Episode finished after 500 timesteps\n",
      "Episode finished after 500 timesteps\n",
      "Episode finished after 500 timesteps\n",
      "Episode finished after 500 timesteps\n",
      "Episode finished after 500 timesteps\n",
      "Episode finished after 500 timesteps\n",
      "Episode finished after 500 timesteps\n",
      "Episode finished after 500 timesteps\n",
      "Episode finished after 500 timesteps\n",
      "Episode finished after 500 timesteps\n",
      "Episode finished after 500 timesteps\n",
      "Episode finished after 500 timesteps\n",
      "Episode finished after 500 timesteps\n",
      "Episode finished after 500 timesteps\n",
      "Episode finished after 500 timesteps\n",
      "Episode finished after 500 timesteps\n",
      "Episode finished after 500 timesteps\n",
      "Episode finished after 500 timesteps\n",
      "Episode finished after 500 timesteps\n",
      "Episode finished after 338 timesteps\n",
      "Episode finished after 500 timesteps\n"
     ]
    },
    {
     "name": "stderr",
     "output_type": "stream",
     "text": [
      "[2017-04-17 20:35:04,365] Finished writing results. You can upload them to the scoreboard via gym.upload('/tmp/cartpole-experiment-6')\n"
     ]
    },
    {
     "name": "stdout",
     "output_type": "stream",
     "text": [
      "Episode finished after 500 timesteps\n"
     ]
    }
   ],
   "source": [
    "import gym\n",
    "from gym import wrappers\n",
    "\n",
    "params = {'W':np.zeros(4), 'learning_rate':1, 'discount':0.5, 'b':0}\n",
    "\n",
    "env = gym.make('CartPole-v1')\n",
    "env = wrappers.Monitor(env, '/tmp/cartpole-experiment-6',force=True)\n",
    "for k in range(500):\n",
    "    observation = env.reset()\n",
    "    states, actions, rewards = [], [], []\n",
    "    states.append(observation)\n",
    "    for t in range(500):\n",
    "        env.render()\n",
    "\n",
    "        action = policy(params, observation)\n",
    "\n",
    "        new_observation, reward, done, info = env.step(action)\n",
    "\n",
    "        observation = new_observation\n",
    "\n",
    "        states.append(observation)\n",
    "        actions.append(action)\n",
    "        rewards.append(0)\n",
    "\n",
    "        if done:\n",
    "            print(\"Episode finished after {} timesteps\".format(t+1))\n",
    "            break\n",
    "    \n",
    "    rewards[-1] = -1\n",
    "    update_gradients(params, actions, states, rewards)\n",
    "    states.append(observation)\n",
    "            \n",
    "env.close()\n"
   ]
  },
  {
   "cell_type": "code",
   "execution_count": 5,
   "metadata": {
    "collapsed": false
   },
   "outputs": [
    {
     "name": "stderr",
     "output_type": "stream",
     "text": [
      "[2017-05-02 16:10:42,695] [CartPole-v1] Uploading 22600 episodes of training data\n",
      "[2017-05-02 16:11:01,574] [CartPole-v1] Uploading videos of 32 training episodes (527544 bytes)\n",
      "[2017-05-02 16:11:08,570] [CartPole-v1] Creating evaluation object from /tmp/cartpole-experiment-7 with learning curve and training video\n",
      "[2017-05-02 16:11:09,231] \n",
      "****************************************************\n",
      "You successfully uploaded your evaluation on CartPole-v1 to\n",
      "OpenAI Gym! You can find it at:\n",
      "\n",
      "    https://gym.openai.com/evaluations/eval_TMNGPo9TwmxomJ5MI8O7Q\n",
      "\n",
      "****************************************************\n"
     ]
    }
   ],
   "source": [
    "import gym\n",
    "from gym import wrappers\n",
    "\n",
    "gym.upload('/tmp/cartpole-experiment-7', api_key='sk_aJYIMFATbWMBRlWoleTQ')"
   ]
  },
  {
   "cell_type": "code",
   "execution_count": null,
   "metadata": {
    "collapsed": true
   },
   "outputs": [],
   "source": [
    "w = [1.3, -1.3, -1.3, 1.4]"
   ]
  },
  {
   "cell_type": "code",
   "execution_count": null,
   "metadata": {
    "collapsed": true
   },
   "outputs": [],
   "source": []
  }
 ],
 "metadata": {
  "kernelspec": {
   "display_name": "Python 3",
   "language": "python",
   "name": "python3"
  },
  "language_info": {
   "codemirror_mode": {
    "name": "ipython",
    "version": 3
   },
   "file_extension": ".py",
   "mimetype": "text/x-python",
   "name": "python",
   "nbconvert_exporter": "python",
   "pygments_lexer": "ipython3",
   "version": "3.5.2"
  },
  "widgets": {
   "state": {},
   "version": "1.1.2"
  }
 },
 "nbformat": 4,
 "nbformat_minor": 2
}
